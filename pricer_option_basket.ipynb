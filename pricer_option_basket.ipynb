{
 "cells": [
  {
   "cell_type": "markdown",
   "metadata": {},
   "source": [
    "# Pricer Option basket\n",
    "---\n"
   ]
  },
  {
   "cell_type": "markdown",
   "metadata": {},
   "source": [
    "#### Libraries set up \n",
    "---"
   ]
  },
  {
   "cell_type": "code",
   "execution_count": 64,
   "metadata": {},
   "outputs": [],
   "source": [
    "import numpy as np\n",
    "import scipy.stats as sps\n",
    "import pandas as pd\n",
    "import matplotlib.pyplot as plt\n",
    "import seaborn as sns\n",
    "sns.set_theme()\n",
    "from numpy.random import default_rng, SeedSequence\n",
    "\n",
    "sq = SeedSequence()\n",
    "rng = default_rng(sq)"
   ]
  },
  {
   "cell_type": "markdown",
   "metadata": {},
   "source": [
    "\n",
    "#### Context\n",
    "\n",
    "We consider $d \\ge 2$ financial assets whose distribution at time  $T > 0$ is modeled by a log-normal distribution, that is,\n",
    "$$\n",
    "    \\forall i \\in \\{1,\\dots,d\\}, \\quad\n",
    "    S^i_T = S^i_0 \\exp\\Bigl( \\bigl(r-\\frac{\\sigma_i^2}{2}\\bigr) T + \\sigma_i \\sqrt{T} \\tilde G_i \\Bigr)\n",
    "$$\n",
    "where the vector $(\\tilde G_1,\\dots, \\tilde G_d)$ is Gaussian with mean zero and covariance matrix $\\Sigma$ and the constants $r > 0$, $\\sigma_i > 0$ . IThese are financial assets $(S^i_t)_{t \\in [0,T]}$, $1 \\le i \\le d$, modeled by a multidimensional Black-Scholes process. We introduce the lower triangular matrix $L$ obtained by the Cholesky decomposition of the matrix $\\Sigma = L L^\\top$. \n",
    "\n",
    "Using this matrix $L$, we define the function $\\Phi:\\mathbf{R}^d \\to \\mathbf{R}^d$ such that\n",
    "$$\n",
    "    (S^1_T, \\dots, S^d_T) = \\Phi(G_1, \\dots, G_d) \\quad \\text{ou encore} \\quad S^i_T = \\Phi_i(G_1, \\dots, G_d)\n",
    "$$\n",
    "où $(G_1, \\dots, G_d) \\sim \\mathcal{N}(0, I_d)$ (the previous equality is to be considered in distribution).\n",
    "\n",
    "\n",
    "\n"
   ]
  },
  {
   "cell_type": "code",
   "execution_count": 68,
   "metadata": {},
   "outputs": [],
   "source": [
    "d = 40\n",
    "T = 1\n",
    "r = 0.1\n",
    "S0 = np.full(d, 100)\n",
    "#sigma = np.arange(1,d+1)/(2*d)\n",
    "sigma = np.full(d, 0.3)\n",
    "rho = 0.3\n",
    "correl = np.full((d,d), rho) + (1-rho)*np.eye(d) # ou np.diag(np.full(d, 1-rho))\n",
    "K = 100"
   ]
  },
  {
   "cell_type": "code",
   "execution_count": 69,
   "metadata": {},
   "outputs": [],
   "source": [
    "params = {\n",
    "    \"S0\": S0[:, np.newaxis],\n",
    "    \"sigma\": sigma[:, np.newaxis],\n",
    "    \"mu\": r-0.5*sigma[:, np.newaxis]**2,\n",
    "    \"sq_correl\": np.linalg.cholesky(correl),  # c'est la matrice L tq L L^T = \\Sigma\n",
    "    \"maturity\": T,\n",
    "    \"strike\": K\n",
    "}"
   ]
  },
  {
   "cell_type": "code",
   "execution_count": 70,
   "metadata": {},
   "outputs": [],
   "source": [
    "def phi(indep_Gn, S0, mu, sigma, sq_correl, maturity, strike):\n",
    "    ST = S0 * np.exp(mu * maturity + sigma * np.sqrt(maturity) * sq_correl @ indep_Gn)\n",
    "    return np.maximum(np.mean(ST, axis=0)-strike, 0)"
   ]
  },
  {
   "cell_type": "markdown",
   "metadata": {},
   "source": [
    "## Approximation Monte Carlo\n",
    "---"
   ]
  },
  {
   "cell_type": "markdown",
   "metadata": {},
   "source": [
    "We are interested in the price of a European option (also known as a European derivative) on the basket of these $d$ financial assets, meaning we want to calculate \n",
    "$$\n",
    "    \\mathbf{E} \\bigl[ X \\bigr] %\\quad \\text{avec} \\quad g(x) = (x-K)_+ \\quad \\text{ou} \\quad g(x) = (K-x)_+ \n",
    "    \\quad \\text{avec} \\quad \n",
    "    X = \\biggl(\\frac{1}{d} \\sum_{i=1}^d S^i_T  - K\\biggr)_+\n",
    "$$"
   ]
  },
  {
   "cell_type": "code",
   "execution_count": 71,
   "metadata": {},
   "outputs": [],
   "source": [
    "def monte_carlo(sample, proba = 0.95):\n",
    "    mean = np.mean(sample)\n",
    "    var = np.var(sample, ddof=1)\n",
    "    alpha = 1 - proba \n",
    "    quantile = sps.norm.ppf(1 - alpha/2)  # fonction quantile \n",
    "    ci_size = quantile * np.sqrt(var / sample.size)\n",
    "    return (mean, var, mean - ci_size, mean + ci_size)"
   ]
  },
  {
   "cell_type": "code",
   "execution_count": 72,
   "metadata": {},
   "outputs": [],
   "source": [
    "n = int(1e5)\n",
    "Gn = rng.standard_normal((d, n)) # ici on a n scénarios possibles "
   ]
  },
  {
   "cell_type": "code",
   "execution_count": 73,
   "metadata": {},
   "outputs": [
    {
     "data": {
      "text/plain": [
       "array([[ 0.86510093,  0.28075451,  0.01314501, ..., -0.96115266,\n",
       "         1.1061931 , -0.21609412],\n",
       "       [ 0.49670362, -0.86646224,  0.44129649, ..., -0.27137062,\n",
       "        -0.00934686, -0.22803408],\n",
       "       [ 0.35659144, -0.16071928, -0.84159715, ..., -1.9608045 ,\n",
       "         0.92856353,  0.0961268 ],\n",
       "       ...,\n",
       "       [-0.04376139,  0.73081677,  0.99916756, ..., -0.458836  ,\n",
       "         1.03244154,  0.31482381],\n",
       "       [-0.30260124,  0.15696493, -0.63855625, ...,  0.72733913,\n",
       "        -0.91415998,  0.52289309],\n",
       "       [-2.84031078, -0.7116379 , -0.89703459, ...,  0.06952089,\n",
       "         0.68868552,  0.01630484]])"
      ]
     },
     "execution_count": 73,
     "metadata": {},
     "output_type": "execute_result"
    }
   ],
   "source": [
    "Gn"
   ]
  },
  {
   "cell_type": "code",
   "execution_count": 74,
   "metadata": {},
   "outputs": [
    {
     "data": {
      "text/plain": [
       "(13.478188082685477,\n",
       " 231.64957991540598,\n",
       " 13.383855038524054,\n",
       " 13.572521126846901)"
      ]
     },
     "execution_count": 74,
     "metadata": {},
     "output_type": "execute_result"
    }
   ],
   "source": [
    "sample = phi(Gn,**params)\n",
    "monte_carlo(sample)"
   ]
  },
  {
   "cell_type": "markdown",
   "metadata": {},
   "source": [
    "We want to calculate the price for different values of the 'strike', so we remove the 'strike' field from the param dictionary and will vary this parameter."
   ]
  },
  {
   "cell_type": "code",
   "execution_count": 75,
   "metadata": {},
   "outputs": [],
   "source": [
    "Ks = [80, 90, 100, 110, 120]\n",
    "del params[\"strike\"]"
   ]
  },
  {
   "cell_type": "code",
   "execution_count": 76,
   "metadata": {},
   "outputs": [
    {
     "data": {
      "text/html": [
       "<div>\n",
       "<style scoped>\n",
       "    .dataframe tbody tr th:only-of-type {\n",
       "        vertical-align: middle;\n",
       "    }\n",
       "\n",
       "    .dataframe tbody tr th {\n",
       "        vertical-align: top;\n",
       "    }\n",
       "\n",
       "    .dataframe thead th {\n",
       "        text-align: right;\n",
       "    }\n",
       "</style>\n",
       "<table border=\"1\" class=\"dataframe\">\n",
       "  <thead>\n",
       "    <tr style=\"text-align: right;\">\n",
       "      <th></th>\n",
       "      <th>Mean</th>\n",
       "      <th>Var</th>\n",
       "      <th>Lower</th>\n",
       "      <th>Upper</th>\n",
       "    </tr>\n",
       "  </thead>\n",
       "  <tbody>\n",
       "    <tr>\n",
       "      <th>80</th>\n",
       "      <td>30.595047</td>\n",
       "      <td>340.459677</td>\n",
       "      <td>30.480685</td>\n",
       "      <td>30.709409</td>\n",
       "    </tr>\n",
       "    <tr>\n",
       "      <th>90</th>\n",
       "      <td>21.352913</td>\n",
       "      <td>302.697215</td>\n",
       "      <td>21.245080</td>\n",
       "      <td>21.460746</td>\n",
       "    </tr>\n",
       "    <tr>\n",
       "      <th>100</th>\n",
       "      <td>13.478188</td>\n",
       "      <td>231.649580</td>\n",
       "      <td>13.383855</td>\n",
       "      <td>13.572521</td>\n",
       "    </tr>\n",
       "    <tr>\n",
       "      <th>110</th>\n",
       "      <td>7.622718</td>\n",
       "      <td>147.822155</td>\n",
       "      <td>7.547362</td>\n",
       "      <td>7.698074</td>\n",
       "    </tr>\n",
       "    <tr>\n",
       "      <th>120</th>\n",
       "      <td>3.872937</td>\n",
       "      <td>79.252758</td>\n",
       "      <td>3.817760</td>\n",
       "      <td>3.928114</td>\n",
       "    </tr>\n",
       "  </tbody>\n",
       "</table>\n",
       "</div>"
      ],
      "text/plain": [
       "          Mean         Var      Lower      Upper\n",
       "80   30.595047  340.459677  30.480685  30.709409\n",
       "90   21.352913  302.697215  21.245080  21.460746\n",
       "100  13.478188  231.649580  13.383855  13.572521\n",
       "110   7.622718  147.822155   7.547362   7.698074\n",
       "120   3.872937   79.252758   3.817760   3.928114"
      ]
     },
     "execution_count": 76,
     "metadata": {},
     "output_type": "execute_result"
    }
   ],
   "source": [
    "result = [monte_carlo(phi(Gn, strike=K, **params)) for K in Ks]\n",
    "result_df = pd.DataFrame(result, \n",
    "                         columns=['Mean', 'Var', 'Lower', 'Upper'], index=Ks)\n",
    "result_df"
   ]
  },
  {
   "cell_type": "markdown",
   "metadata": {},
   "source": [
    "We can see that our variances are quite big suggesting that we can not feel so confident in the estimate price outputs by the Monte Carlo method. Let now investigate Variance reduction methods though.\n",
    "\n",
    "We will try two methods and see which one leads to a consistent reduction of our Variance."
   ]
  },
  {
   "cell_type": "markdown",
   "metadata": {},
   "source": [
    "## Variance Methods reduction"
   ]
  },
  {
   "cell_type": "markdown",
   "metadata": {},
   "source": [
    "## 1. Antithetic Variables"
   ]
  },
  {
   "cell_type": "markdown",
   "metadata": {},
   "source": [
    "Following the bsame model as before, we code a function `phi_antith` that evaluates\n",
    "$$\n",
    "    \\frac{1}{2} \\bigl( \\Phi(G_1, \\dots, G_d) + \\Phi(-G_1, \\dots, -G_d) \\bigr)\n",
    "$$\n",
    "and will then be used to implement the Monte Carlo method with variance reduction using antithetic variables.\n"
   ]
  },
  {
   "cell_type": "code",
   "execution_count": 77,
   "metadata": {},
   "outputs": [],
   "source": [
    "def phi_antith(indep_Gn, **params):\n",
    "    return 0.5 * (phi(indep_Gn, **params) + phi(-indep_Gn, **params))"
   ]
  },
  {
   "cell_type": "code",
   "execution_count": 78,
   "metadata": {},
   "outputs": [
    {
     "data": {
      "text/plain": [
       "(13.546442505292996,\n",
       " 36.009419012465216,\n",
       " 13.509249938791946,\n",
       " 13.583635071794046)"
      ]
     },
     "execution_count": 78,
     "metadata": {},
     "output_type": "execute_result"
    }
   ],
   "source": [
    "sample = phi_antith(Gn, strike=100, **params)\n",
    "monte_carlo(sample)"
   ]
  },
  {
   "cell_type": "code",
   "execution_count": 79,
   "metadata": {},
   "outputs": [
    {
     "data": {
      "text/html": [
       "<div>\n",
       "<style scoped>\n",
       "    .dataframe tbody tr th:only-of-type {\n",
       "        vertical-align: middle;\n",
       "    }\n",
       "\n",
       "    .dataframe tbody tr th {\n",
       "        vertical-align: top;\n",
       "    }\n",
       "\n",
       "    .dataframe thead th {\n",
       "        text-align: right;\n",
       "    }\n",
       "</style>\n",
       "<table border=\"1\" class=\"dataframe\">\n",
       "  <thead>\n",
       "    <tr style=\"text-align: right;\">\n",
       "      <th></th>\n",
       "      <th>Mean</th>\n",
       "      <th>Var</th>\n",
       "      <th>Lower</th>\n",
       "      <th>Upper</th>\n",
       "    </tr>\n",
       "  </thead>\n",
       "  <tbody>\n",
       "    <tr>\n",
       "      <th>80</th>\n",
       "      <td>30.689389</td>\n",
       "      <td>9.317532</td>\n",
       "      <td>30.670470</td>\n",
       "      <td>30.708308</td>\n",
       "    </tr>\n",
       "    <tr>\n",
       "      <th>90</th>\n",
       "      <td>21.434462</td>\n",
       "      <td>19.222024</td>\n",
       "      <td>21.407289</td>\n",
       "      <td>21.461636</td>\n",
       "    </tr>\n",
       "    <tr>\n",
       "      <th>100</th>\n",
       "      <td>13.546443</td>\n",
       "      <td>36.009419</td>\n",
       "      <td>13.509250</td>\n",
       "      <td>13.583635</td>\n",
       "    </tr>\n",
       "    <tr>\n",
       "      <th>110</th>\n",
       "      <td>7.680726</td>\n",
       "      <td>45.395838</td>\n",
       "      <td>7.638967</td>\n",
       "      <td>7.722486</td>\n",
       "    </tr>\n",
       "    <tr>\n",
       "      <th>120</th>\n",
       "      <td>3.919365</td>\n",
       "      <td>32.656809</td>\n",
       "      <td>3.883946</td>\n",
       "      <td>3.954783</td>\n",
       "    </tr>\n",
       "  </tbody>\n",
       "</table>\n",
       "</div>"
      ],
      "text/plain": [
       "          Mean        Var      Lower      Upper\n",
       "80   30.689389   9.317532  30.670470  30.708308\n",
       "90   21.434462  19.222024  21.407289  21.461636\n",
       "100  13.546443  36.009419  13.509250  13.583635\n",
       "110   7.680726  45.395838   7.638967   7.722486\n",
       "120   3.919365  32.656809   3.883946   3.954783"
      ]
     },
     "execution_count": 79,
     "metadata": {},
     "output_type": "execute_result"
    }
   ],
   "source": [
    "Ks = [80, 90, 100, 110, 120]\n",
    "result_antith = [monte_carlo(phi_antith(Gn, strike=K, **params)) for K in Ks]\n",
    "result_antith_df = pd.DataFrame(result_antith, \n",
    "                                columns=['Mean', 'Var', 'Lower', 'Upper'], index=Ks)\n",
    "result_antith_df"
   ]
  },
  {
   "cell_type": "markdown",
   "metadata": {},
   "source": [
    "We see our our variances are drastically reduced by using the variable antithetic method for variance reduction.\n",
    "Following codes show the ratio with the simple Monte Carlo method"
   ]
  },
  {
   "cell_type": "code",
   "execution_count": 80,
   "metadata": {},
   "outputs": [
    {
     "data": {
      "text/html": [
       "<div>\n",
       "<style scoped>\n",
       "    .dataframe tbody tr th:only-of-type {\n",
       "        vertical-align: middle;\n",
       "    }\n",
       "\n",
       "    .dataframe tbody tr th {\n",
       "        vertical-align: top;\n",
       "    }\n",
       "\n",
       "    .dataframe thead th {\n",
       "        text-align: right;\n",
       "    }\n",
       "</style>\n",
       "<table border=\"1\" class=\"dataframe\">\n",
       "  <thead>\n",
       "    <tr style=\"text-align: right;\">\n",
       "      <th></th>\n",
       "      <th>method</th>\n",
       "      <th>strike</th>\n",
       "      <th>ratio</th>\n",
       "    </tr>\n",
       "  </thead>\n",
       "  <tbody>\n",
       "    <tr>\n",
       "      <th>80</th>\n",
       "      <td>Antithetic</td>\n",
       "      <td>80</td>\n",
       "      <td>36.539685</td>\n",
       "    </tr>\n",
       "    <tr>\n",
       "      <th>90</th>\n",
       "      <td>Antithetic</td>\n",
       "      <td>90</td>\n",
       "      <td>15.747416</td>\n",
       "    </tr>\n",
       "    <tr>\n",
       "      <th>100</th>\n",
       "      <td>Antithetic</td>\n",
       "      <td>100</td>\n",
       "      <td>6.433027</td>\n",
       "    </tr>\n",
       "    <tr>\n",
       "      <th>110</th>\n",
       "      <td>Antithetic</td>\n",
       "      <td>110</td>\n",
       "      <td>3.256293</td>\n",
       "    </tr>\n",
       "    <tr>\n",
       "      <th>120</th>\n",
       "      <td>Antithetic</td>\n",
       "      <td>120</td>\n",
       "      <td>2.426837</td>\n",
       "    </tr>\n",
       "  </tbody>\n",
       "</table>\n",
       "</div>"
      ],
      "text/plain": [
       "         method  strike      ratio\n",
       "80   Antithetic      80  36.539685\n",
       "90   Antithetic      90  15.747416\n",
       "100  Antithetic     100   6.433027\n",
       "110  Antithetic     110   3.256293\n",
       "120  Antithetic     120   2.426837"
      ]
     },
     "execution_count": 80,
     "metadata": {},
     "output_type": "execute_result"
    }
   ],
   "source": [
    "ratio_var = pd.DataFrame({\n",
    "    \"method\": \"Antithetic\",\n",
    "    \"strike\": Ks, \n",
    "    \"ratio\": result_df['Var'] / result_antith_df['Var'], \n",
    "})\n",
    "ratio_var"
   ]
  },
  {
   "cell_type": "code",
   "execution_count": 22,
   "metadata": {},
   "outputs": [
    {
     "data": {
      "text/plain": [
       "<Axes: xlabel='strike', ylabel='ratio'>"
      ]
     },
     "execution_count": 22,
     "metadata": {},
     "output_type": "execute_result"
    },
    {
     "data": {
      "image/png": "[encoded data removed]",
      "text/plain": [
       "<Figure size 640x480 with 1 Axes>"
      ]
     },
     "metadata": {},
     "output_type": "display_data"
    }
   ],
   "source": [
    "sns.barplot(data=ratio_var, x=\"strike\", y=\"ratio\", hue=\"method\")"
   ]
  },
  {
   "cell_type": "markdown",
   "metadata": {},
   "source": [
    "We observe that the ratio decreases with the strike of the option."
   ]
  },
  {
   "cell_type": "markdown",
   "metadata": {},
   "source": [
    "## 2. Control Variates"
   ]
  },
  {
   "cell_type": "markdown",
   "metadata": {},
   "source": [
    "Recall that in a one-dimensional Black-Scholes model, the price of a call option is given by a closed-form formula. For a basket option(in dimension $d \\ge 2$), the price is approximated using Monte Carlo, but one can use approximations to find a unidimensional product close to the basket product. These approximations serve as control variates: **Instead of adding an error, they reduce variance**... \n"
   ]
  },
  {
   "cell_type": "code",
   "execution_count": 81,
   "metadata": {},
   "outputs": [],
   "source": [
    "def d1(spot, t, r, sigma, strike):\n",
    "    return (np.log(spot / strike) + t * (r + 0.5*sigma**2)) / (sigma * np.sqrt(t))"
   ]
  },
  {
   "cell_type": "code",
   "execution_count": 82,
   "metadata": {},
   "outputs": [],
   "source": [
    "def d2(spot, t, r, sigma, strike):\n",
    "    return d1(spot, t, r, sigma, strike) - sigma * np.sqrt(t)"
   ]
  },
  {
   "cell_type": "code",
   "execution_count": 83,
   "metadata": {},
   "outputs": [],
   "source": [
    "def price_call_BS(spot, t, r, sigma, strike):\n",
    "    d1_ = d1(spot, t, r, sigma, strike)\n",
    "    d2_ = d2(spot, t, r, sigma, strike)\n",
    "    return spot * sps.norm.cdf(d1_) - strike * np.exp(-r * t) * sps.norm.cdf(d2_)"
   ]
  },
  {
   "cell_type": "markdown",
   "metadata": {},
   "source": [
    "Recall that, by setting $\\mu_i = r - \\frac{1}{2}\\sigma_i^2$,\n",
    "$$\n",
    "    X = \\biggl(\\frac{1}{d} \\sum_{i=1}^d S^i_0 e^{\\mu_i T + \\sigma_i \\sqrt{T} \\tilde G_i}  - K\\biggr)_+\n",
    "$$\n",
    "and by introducing $a^i_0 = \\frac{S^i_0}{\\sum_{j=1}^d S^j_0}$ (t.q. $\\sum a^i_0 = 1$) et $\\bar S_0 = \\frac{1}{d} \\sum_{i=1}^d S^i_0$ on a \n",
    "$$\n",
    "    X = \\biggl(\\bar S_0 \\sum_{i=1}^d a^i_0 e^{\\mu_i T + \\sigma_i \\sqrt{T} \\tilde G_i}  - K\\biggr)_+.\n",
    "$$\n",
    "The proposed control variate is obtained by exchanging the logarith of the exponential and the weighted average by the weights $\\big(a^i_0\\big)_{i=1,\\dots,d}$:\n",
    "$$\n",
    "    Y = \\bigl(\\bar S_0 e^Z  - K\\bigr)_+\n",
    "    \\quad \\text{avec} \\quad \n",
    "    Z = \\sum_{i=1}^d a^i_0 \\big(\\mu_i T + \\sigma_i \\sqrt{T} \\tilde G_i\\big) \n",
    "$$\n",
    "The random variable  $Z$ follows a Gaussian distribution $Z \\sim \\mathcal{N}(m T, s^2 T)$ with\n",
    "$$\n",
    "    m = \\sum_{i=1}^d a^i_0 \\mu_i\n",
    "    \\quad \\text{et} \\quad\n",
    "    s^2 = \\sum_{i=1}^d \\Big( \\sum_{j=1}^d a^i_0 \\sigma_i L_{ij} \\Big)^2. \n",
    "$$\n",
    "Thus, the bexpectation of the control variable  $Y$ is known from the Black scholes formula, as it corresponds to the price of a call option with strike $K$ on a one-dimensional Black_Choles asset, with an initial value $\\bar S_0$, interest rate $\\rho = m+\\frac{1}{2} s^2$ and volatility $s$ (up to a discount factors... be mindful of this). Therefore, we have \n",
    "$$\n",
    "    e^{-\\rho T} \\mathbf{E} \\big[ Y \\big] = P_{\\text{BS}}\\big(\\bar S_0, \\rho, s, T, K\\big) \n",
    "$$"
   ]
  },
  {
   "cell_type": "markdown",
   "metadata": {},
   "source": [
    "First, we check the formulas: the true expectation of $Y$ calculated using the closed-form formula must be within the confidence interval of a Monte Carlo estimator based on a large sample $(Y_1,\\dots,Y_n)$."
   ]
  },
  {
   "cell_type": "code",
   "execution_count": 84,
   "metadata": {},
   "outputs": [],
   "source": [
    "barS0 = params[\"S0\"].mean()\n",
    "a = params[\"S0\"] / params[\"S0\"].sum()\n",
    "m = (a * params[\"mu\"]).sum()\n",
    "s2 = (((a * params[\"sigma\"]).T @ params[\"sq_correl\"])**2).sum()\n",
    "rho = m + 0.5*s2"
   ]
  },
  {
   "cell_type": "code",
   "execution_count": 85,
   "metadata": {},
   "outputs": [
    {
     "name": "stdout",
     "output_type": "stream",
     "text": [
      "True value: 11.140982930779245\n"
     ]
    }
   ],
   "source": [
    "# calcul par formule fermée\n",
    "Y_mean = np.exp(rho*T) * price_call_BS(barS0, T, rho, np.sqrt(s2), strike=K)\n",
    "print(\"True value:\", Y_mean)"
   ]
  },
  {
   "cell_type": "code",
   "execution_count": 86,
   "metadata": {},
   "outputs": [
    {
     "data": {
      "text/plain": [
       "(11.064572595832683, 192.73977223726078, 10.97852598647709, 11.150619205188276)"
      ]
     },
     "execution_count": 86,
     "metadata": {},
     "output_type": "execute_result"
    }
   ],
   "source": [
    "# calcul par Monte Carlo\n",
    "Z = np.sum(a * (m*T + params[\"sigma\"]*np.sqrt(T)*params[\"sq_correl\"] @ Gn), axis = 0)\n",
    "Y = np.maximum(S0.mean() * np.exp(Z) - K, 0) \n",
    "monte_carlo(Y)"
   ]
  },
  {
   "cell_type": "markdown",
   "metadata": {},
   "source": [
    "We combine everything into a function $\\Psi$ dwhich is called similarly to $\\Phi$ and returns realizations of $Y - \\mathbf{E}[Y]$.  It is often more convenient to use centered control variates.."
   ]
  },
  {
   "cell_type": "code",
   "execution_count": 87,
   "metadata": {},
   "outputs": [],
   "source": [
    "def psi(indep_Gn, S0, mu, sigma, sq_correl, maturity, strike):\n",
    "    weight = S0 / S0.sum()\n",
    "    m = (weight * mu).sum()\n",
    "    s2 = (((weight * sigma).T @ sq_correl)**2).sum()\n",
    "    rho = m + 0.5*s2\n",
    "\n",
    "    Z = np.sum(weight * (m*maturity + sigma*np.sqrt(maturity)*sq_correl @ indep_Gn), axis = 0)\n",
    "    Y = np.maximum(S0.mean() * np.exp(Z) - strike, 0) \n",
    "    Y_mean = np.exp(rho*T) * price_call_BS(S0.mean(), maturity, rho, np.sqrt(s2), strike=strike) \n",
    "    return Y - Y_mean"
   ]
  },
  {
   "cell_type": "code",
   "execution_count": 88,
   "metadata": {},
   "outputs": [
    {
     "data": {
      "text/plain": [
       "(13.55459841763204, 3.4775127449648164, 13.543040423857937, 13.566156411406142)"
      ]
     },
     "execution_count": 88,
     "metadata": {},
     "output_type": "execute_result"
    }
   ],
   "source": [
    "# exemple d'un appel de Monte Carlo avec variable de contôle $Y = \\Psi(G_1,\\dots, G_n)$\n",
    "sample = phi(Gn, **params, strike=100) - psi(Gn, **params, strike=100)\n",
    "monte_carlo(sample)"
   ]
  },
  {
   "cell_type": "code",
   "execution_count": 32,
   "metadata": {},
   "outputs": [
    {
     "data": {
      "text/html": [
       "<div>\n",
       "<style scoped>\n",
       "    .dataframe tbody tr th:only-of-type {\n",
       "        vertical-align: middle;\n",
       "    }\n",
       "\n",
       "    .dataframe tbody tr th {\n",
       "        vertical-align: top;\n",
       "    }\n",
       "\n",
       "    .dataframe thead th {\n",
       "        text-align: right;\n",
       "    }\n",
       "</style>\n",
       "<table border=\"1\" class=\"dataframe\">\n",
       "  <thead>\n",
       "    <tr style=\"text-align: right;\">\n",
       "      <th></th>\n",
       "      <th>Mean</th>\n",
       "      <th>Var</th>\n",
       "      <th>Lower</th>\n",
       "      <th>Upper</th>\n",
       "    </tr>\n",
       "  </thead>\n",
       "  <tbody>\n",
       "    <tr>\n",
       "      <th>80</th>\n",
       "      <td>30.684226</td>\n",
       "      <td>1.313826</td>\n",
       "      <td>30.677122</td>\n",
       "      <td>30.691330</td>\n",
       "    </tr>\n",
       "    <tr>\n",
       "      <th>90</th>\n",
       "      <td>21.429241</td>\n",
       "      <td>2.254147</td>\n",
       "      <td>21.419935</td>\n",
       "      <td>21.438546</td>\n",
       "    </tr>\n",
       "    <tr>\n",
       "      <th>100</th>\n",
       "      <td>13.551422</td>\n",
       "      <td>3.458661</td>\n",
       "      <td>13.539895</td>\n",
       "      <td>13.562949</td>\n",
       "    </tr>\n",
       "    <tr>\n",
       "      <th>110</th>\n",
       "      <td>7.691453</td>\n",
       "      <td>3.928923</td>\n",
       "      <td>7.679168</td>\n",
       "      <td>7.703739</td>\n",
       "    </tr>\n",
       "    <tr>\n",
       "      <th>120</th>\n",
       "      <td>3.928298</td>\n",
       "      <td>3.301745</td>\n",
       "      <td>3.917036</td>\n",
       "      <td>3.939561</td>\n",
       "    </tr>\n",
       "  </tbody>\n",
       "</table>\n",
       "</div>"
      ],
      "text/plain": [
       "          Mean       Var      Lower      Upper\n",
       "80   30.684226  1.313826  30.677122  30.691330\n",
       "90   21.429241  2.254147  21.419935  21.438546\n",
       "100  13.551422  3.458661  13.539895  13.562949\n",
       "110   7.691453  3.928923   7.679168   7.703739\n",
       "120   3.928298  3.301745   3.917036   3.939561"
      ]
     },
     "execution_count": 32,
     "metadata": {},
     "output_type": "execute_result"
    }
   ],
   "source": [
    "Ks = [80, 90, 100, 110, 120]\n",
    "sample = lambda K: phi(Gn, strike=K, **params) - psi(Gn, strike=K, **params) \n",
    "result_cv = [monte_carlo(sample(K)) for K in Ks]\n",
    "result_cv_df = pd.DataFrame(result_cv, \n",
    "                            columns=['Mean', 'Var', 'Lower', 'Upper'], index=Ks)\n",
    "result_cv_df"
   ]
  },
  {
   "cell_type": "code",
   "execution_count": 89,
   "metadata": {},
   "outputs": [],
   "source": [
    "def mk_ratio_df(method, ratio): \n",
    "    return pd.DataFrame({\n",
    "        \"method\": method,\n",
    "        \"strike\": Ks, \n",
    "        \"ratio\": ratio, \n",
    "    }, index=None)"
   ]
  },
  {
   "cell_type": "code",
   "execution_count": 90,
   "metadata": {},
   "outputs": [
    {
     "data": {
      "text/html": [
       "<div>\n",
       "<style scoped>\n",
       "    .dataframe tbody tr th:only-of-type {\n",
       "        vertical-align: middle;\n",
       "    }\n",
       "\n",
       "    .dataframe tbody tr th {\n",
       "        vertical-align: top;\n",
       "    }\n",
       "\n",
       "    .dataframe thead th {\n",
       "        text-align: right;\n",
       "    }\n",
       "</style>\n",
       "<table border=\"1\" class=\"dataframe\">\n",
       "  <thead>\n",
       "    <tr style=\"text-align: right;\">\n",
       "      <th></th>\n",
       "      <th>method</th>\n",
       "      <th>strike</th>\n",
       "      <th>ratio</th>\n",
       "    </tr>\n",
       "  </thead>\n",
       "  <tbody>\n",
       "    <tr>\n",
       "      <th>0</th>\n",
       "      <td>Antithetic</td>\n",
       "      <td>80</td>\n",
       "      <td>36.539685</td>\n",
       "    </tr>\n",
       "    <tr>\n",
       "      <th>1</th>\n",
       "      <td>Antithetic</td>\n",
       "      <td>90</td>\n",
       "      <td>15.747416</td>\n",
       "    </tr>\n",
       "    <tr>\n",
       "      <th>2</th>\n",
       "      <td>Antithetic</td>\n",
       "      <td>100</td>\n",
       "      <td>6.433027</td>\n",
       "    </tr>\n",
       "    <tr>\n",
       "      <th>3</th>\n",
       "      <td>Antithetic</td>\n",
       "      <td>110</td>\n",
       "      <td>3.256293</td>\n",
       "    </tr>\n",
       "    <tr>\n",
       "      <th>4</th>\n",
       "      <td>Antithetic</td>\n",
       "      <td>120</td>\n",
       "      <td>2.426837</td>\n",
       "    </tr>\n",
       "    <tr>\n",
       "      <th>5</th>\n",
       "      <td>Control Variate</td>\n",
       "      <td>80</td>\n",
       "      <td>259.136109</td>\n",
       "    </tr>\n",
       "    <tr>\n",
       "      <th>6</th>\n",
       "      <td>Control Variate</td>\n",
       "      <td>90</td>\n",
       "      <td>134.284617</td>\n",
       "    </tr>\n",
       "    <tr>\n",
       "      <th>7</th>\n",
       "      <td>Control Variate</td>\n",
       "      <td>100</td>\n",
       "      <td>66.976657</td>\n",
       "    </tr>\n",
       "    <tr>\n",
       "      <th>8</th>\n",
       "      <td>Control Variate</td>\n",
       "      <td>110</td>\n",
       "      <td>37.624088</td>\n",
       "    </tr>\n",
       "    <tr>\n",
       "      <th>9</th>\n",
       "      <td>Control Variate</td>\n",
       "      <td>120</td>\n",
       "      <td>24.003294</td>\n",
       "    </tr>\n",
       "  </tbody>\n",
       "</table>\n",
       "</div>"
      ],
      "text/plain": [
       "            method  strike       ratio\n",
       "0       Antithetic      80   36.539685\n",
       "1       Antithetic      90   15.747416\n",
       "2       Antithetic     100    6.433027\n",
       "3       Antithetic     110    3.256293\n",
       "4       Antithetic     120    2.426837\n",
       "5  Control Variate      80  259.136109\n",
       "6  Control Variate      90  134.284617\n",
       "7  Control Variate     100   66.976657\n",
       "8  Control Variate     110   37.624088\n",
       "9  Control Variate     120   24.003294"
      ]
     },
     "execution_count": 90,
     "metadata": {},
     "output_type": "execute_result"
    }
   ],
   "source": [
    "ratio_var = pd.concat([\n",
    "    mk_ratio_df(\"Antithetic\", result_df['Var'] / result_antith_df['Var']),\n",
    "    mk_ratio_df(\"Control Variate\", result_df['Var'] / result_cv_df['Var']),\n",
    "], ignore_index=True)\n",
    "ratio_var"
   ]
  },
  {
   "cell_type": "code",
   "execution_count": 35,
   "metadata": {},
   "outputs": [
    {
     "data": {
      "text/plain": [
       "<Axes: xlabel='strike', ylabel='ratio'>"
      ]
     },
     "execution_count": 35,
     "metadata": {},
     "output_type": "execute_result"
    },
    {
     "data": {
      "image/png": "[encoded data removed]",
      "text/plain": [
       "<Figure size 640x480 with 1 Axes>"
      ]
     },
     "metadata": {},
     "output_type": "display_data"
    }
   ],
   "source": [
    "sns.barplot(data=ratio_var, x=\"strike\", y=\"ratio\", hue=\"method\")"
   ]
  },
  {
   "cell_type": "markdown",
   "metadata": {},
   "source": [
    "We see that the control variate method performs better than the antithetic variates method and also that the ratio, as with the antithetic variates, decreases with the strike \\( K \\)."
   ]
  },
  {
   "cell_type": "markdown",
   "metadata": {},
   "source": [
    "### Optimal Control Variate\n",
    "\n",
    "\n",
    "if $Y$ is a control variate"
   ]
  },
  {
   "cell_type": "code",
   "execution_count": 91,
   "metadata": {},
   "outputs": [
    {
     "data": {
      "text/html": [
       "<div>\n",
       "<style scoped>\n",
       "    .dataframe tbody tr th:only-of-type {\n",
       "        vertical-align: middle;\n",
       "    }\n",
       "\n",
       "    .dataframe tbody tr th {\n",
       "        vertical-align: top;\n",
       "    }\n",
       "\n",
       "    .dataframe thead th {\n",
       "        text-align: right;\n",
       "    }\n",
       "</style>\n",
       "<table border=\"1\" class=\"dataframe\">\n",
       "  <thead>\n",
       "    <tr style=\"text-align: right;\">\n",
       "      <th></th>\n",
       "      <th>Mean</th>\n",
       "      <th>Var</th>\n",
       "      <th>Lower</th>\n",
       "      <th>Upper</th>\n",
       "    </tr>\n",
       "  </thead>\n",
       "  <tbody>\n",
       "    <tr>\n",
       "      <th>80</th>\n",
       "      <td>30.689626</td>\n",
       "      <td>0.842438</td>\n",
       "      <td>30.683938</td>\n",
       "      <td>30.695315</td>\n",
       "    </tr>\n",
       "    <tr>\n",
       "      <th>90</th>\n",
       "      <td>21.439225</td>\n",
       "      <td>1.306109</td>\n",
       "      <td>21.432142</td>\n",
       "      <td>21.446309</td>\n",
       "    </tr>\n",
       "    <tr>\n",
       "      <th>100</th>\n",
       "      <td>13.561211</td>\n",
       "      <td>1.854661</td>\n",
       "      <td>13.552770</td>\n",
       "      <td>13.569652</td>\n",
       "    </tr>\n",
       "    <tr>\n",
       "      <th>110</th>\n",
       "      <td>7.701609</td>\n",
       "      <td>2.002490</td>\n",
       "      <td>7.692839</td>\n",
       "      <td>7.710380</td>\n",
       "    </tr>\n",
       "    <tr>\n",
       "      <th>120</th>\n",
       "      <td>3.924415</td>\n",
       "      <td>1.622090</td>\n",
       "      <td>3.916521</td>\n",
       "      <td>3.932308</td>\n",
       "    </tr>\n",
       "  </tbody>\n",
       "</table>\n",
       "</div>"
      ],
      "text/plain": [
       "          Mean       Var      Lower      Upper\n",
       "80   30.689626  0.842438  30.683938  30.695315\n",
       "90   21.439225  1.306109  21.432142  21.446309\n",
       "100  13.561211  1.854661  13.552770  13.569652\n",
       "110   7.701609  2.002490   7.692839   7.710380\n",
       "120   3.924415  1.622090   3.916521   3.932308"
      ]
     },
     "execution_count": 91,
     "metadata": {},
     "output_type": "execute_result"
    }
   ],
   "source": [
    "Ks = [80, 90, 100, 110, 120]\n",
    "\n",
    "def sample1(K):\n",
    "    Xn = phi(Gn, **params, strike=K)\n",
    "    Yn = psi(Gn, **params, strike=K)\n",
    "    lambd = (Xn*Yn).mean() / (Yn*Yn).mean()\n",
    "    return Xn - lambd * Yn\n",
    "result_cv2 = [monte_carlo(sample1(K)) for K in Ks]\n",
    "result_cv2_df = pd.DataFrame(result_cv2, \n",
    "                            columns=['Mean', 'Var', 'Lower', 'Upper'], index=Ks)\n",
    "result_cv2_df"
   ]
  },
  {
   "cell_type": "code",
   "execution_count": 92,
   "metadata": {},
   "outputs": [
    {
     "data": {
      "text/html": [
       "<div>\n",
       "<style scoped>\n",
       "    .dataframe tbody tr th:only-of-type {\n",
       "        vertical-align: middle;\n",
       "    }\n",
       "\n",
       "    .dataframe tbody tr th {\n",
       "        vertical-align: top;\n",
       "    }\n",
       "\n",
       "    .dataframe thead th {\n",
       "        text-align: right;\n",
       "    }\n",
       "</style>\n",
       "<table border=\"1\" class=\"dataframe\">\n",
       "  <thead>\n",
       "    <tr style=\"text-align: right;\">\n",
       "      <th></th>\n",
       "      <th>method</th>\n",
       "      <th>strike</th>\n",
       "      <th>ratio</th>\n",
       "    </tr>\n",
       "  </thead>\n",
       "  <tbody>\n",
       "    <tr>\n",
       "      <th>0</th>\n",
       "      <td>Antithetic</td>\n",
       "      <td>80</td>\n",
       "      <td>36.539685</td>\n",
       "    </tr>\n",
       "    <tr>\n",
       "      <th>1</th>\n",
       "      <td>Antithetic</td>\n",
       "      <td>90</td>\n",
       "      <td>15.747416</td>\n",
       "    </tr>\n",
       "    <tr>\n",
       "      <th>2</th>\n",
       "      <td>Antithetic</td>\n",
       "      <td>100</td>\n",
       "      <td>6.433027</td>\n",
       "    </tr>\n",
       "    <tr>\n",
       "      <th>3</th>\n",
       "      <td>Antithetic</td>\n",
       "      <td>110</td>\n",
       "      <td>3.256293</td>\n",
       "    </tr>\n",
       "    <tr>\n",
       "      <th>4</th>\n",
       "      <td>Antithetic</td>\n",
       "      <td>120</td>\n",
       "      <td>2.426837</td>\n",
       "    </tr>\n",
       "    <tr>\n",
       "      <th>5</th>\n",
       "      <td>Control Variate</td>\n",
       "      <td>80</td>\n",
       "      <td>259.136109</td>\n",
       "    </tr>\n",
       "    <tr>\n",
       "      <th>6</th>\n",
       "      <td>Control Variate</td>\n",
       "      <td>90</td>\n",
       "      <td>134.284617</td>\n",
       "    </tr>\n",
       "    <tr>\n",
       "      <th>7</th>\n",
       "      <td>Control Variate</td>\n",
       "      <td>100</td>\n",
       "      <td>66.976657</td>\n",
       "    </tr>\n",
       "    <tr>\n",
       "      <th>8</th>\n",
       "      <td>Control Variate</td>\n",
       "      <td>110</td>\n",
       "      <td>37.624088</td>\n",
       "    </tr>\n",
       "    <tr>\n",
       "      <th>9</th>\n",
       "      <td>Control Variate</td>\n",
       "      <td>120</td>\n",
       "      <td>24.003294</td>\n",
       "    </tr>\n",
       "    <tr>\n",
       "      <th>10</th>\n",
       "      <td>Control Variate adapt</td>\n",
       "      <td>80</td>\n",
       "      <td>404.136149</td>\n",
       "    </tr>\n",
       "    <tr>\n",
       "      <th>11</th>\n",
       "      <td>Control Variate adapt</td>\n",
       "      <td>90</td>\n",
       "      <td>231.754979</td>\n",
       "    </tr>\n",
       "    <tr>\n",
       "      <th>12</th>\n",
       "      <td>Control Variate adapt</td>\n",
       "      <td>100</td>\n",
       "      <td>124.901319</td>\n",
       "    </tr>\n",
       "    <tr>\n",
       "      <th>13</th>\n",
       "      <td>Control Variate adapt</td>\n",
       "      <td>110</td>\n",
       "      <td>73.819159</td>\n",
       "    </tr>\n",
       "    <tr>\n",
       "      <th>14</th>\n",
       "      <td>Control Variate adapt</td>\n",
       "      <td>120</td>\n",
       "      <td>48.858424</td>\n",
       "    </tr>\n",
       "  </tbody>\n",
       "</table>\n",
       "</div>"
      ],
      "text/plain": [
       "                   method  strike       ratio\n",
       "0              Antithetic      80   36.539685\n",
       "1              Antithetic      90   15.747416\n",
       "2              Antithetic     100    6.433027\n",
       "3              Antithetic     110    3.256293\n",
       "4              Antithetic     120    2.426837\n",
       "5         Control Variate      80  259.136109\n",
       "6         Control Variate      90  134.284617\n",
       "7         Control Variate     100   66.976657\n",
       "8         Control Variate     110   37.624088\n",
       "9         Control Variate     120   24.003294\n",
       "10  Control Variate adapt      80  404.136149\n",
       "11  Control Variate adapt      90  231.754979\n",
       "12  Control Variate adapt     100  124.901319\n",
       "13  Control Variate adapt     110   73.819159\n",
       "14  Control Variate adapt     120   48.858424"
      ]
     },
     "execution_count": 92,
     "metadata": {},
     "output_type": "execute_result"
    }
   ],
   "source": [
    "ratio_var = pd.concat([\n",
    "    mk_ratio_df(\"Antithetic\", result_df['Var'] / result_antith_df['Var']),\n",
    "    mk_ratio_df(\"Control Variate\", result_df['Var'] / result_cv_df['Var']),\n",
    "    mk_ratio_df(\"Control Variate adapt\", result_df['Var'] / result_cv2_df['Var']),\n",
    "], ignore_index=True)\n",
    "ratio_var"
   ]
  },
  {
   "cell_type": "code",
   "execution_count": 38,
   "metadata": {},
   "outputs": [
    {
     "data": {
      "text/plain": [
       "<Axes: xlabel='strike', ylabel='ratio'>"
      ]
     },
     "execution_count": 38,
     "metadata": {},
     "output_type": "execute_result"
    },
    {
     "data": {
      "image/png": "[encoded data removed]",
      "text/plain": [
       "<Figure size 640x480 with 1 Axes>"
      ]
     },
     "metadata": {},
     "output_type": "display_data"
    }
   ],
   "source": [
    "sns.barplot(data=ratio_var, x=\"strike\", y=\"ratio\", hue=\"method\")"
   ]
  },
  {
   "cell_type": "markdown",
   "metadata": {},
   "source": [
    "## Combination of the Two Previous Methods"
   ]
  },
  {
   "cell_type": "code",
   "execution_count": 93,
   "metadata": {},
   "outputs": [
    {
     "data": {
      "text/html": [
       "<div>\n",
       "<style scoped>\n",
       "    .dataframe tbody tr th:only-of-type {\n",
       "        vertical-align: middle;\n",
       "    }\n",
       "\n",
       "    .dataframe tbody tr th {\n",
       "        vertical-align: top;\n",
       "    }\n",
       "\n",
       "    .dataframe thead th {\n",
       "        text-align: right;\n",
       "    }\n",
       "</style>\n",
       "<table border=\"1\" class=\"dataframe\">\n",
       "  <thead>\n",
       "    <tr style=\"text-align: right;\">\n",
       "      <th></th>\n",
       "      <th>Mean</th>\n",
       "      <th>Var</th>\n",
       "      <th>Lower</th>\n",
       "      <th>Upper</th>\n",
       "    </tr>\n",
       "  </thead>\n",
       "  <tbody>\n",
       "    <tr>\n",
       "      <th>80</th>\n",
       "      <td>30.691963</td>\n",
       "      <td>0.675322</td>\n",
       "      <td>30.686869</td>\n",
       "      <td>30.697056</td>\n",
       "    </tr>\n",
       "    <tr>\n",
       "      <th>90</th>\n",
       "      <td>21.439981</td>\n",
       "      <td>0.991517</td>\n",
       "      <td>21.433810</td>\n",
       "      <td>21.446153</td>\n",
       "    </tr>\n",
       "    <tr>\n",
       "      <th>100</th>\n",
       "      <td>13.562552</td>\n",
       "      <td>1.251393</td>\n",
       "      <td>13.555618</td>\n",
       "      <td>13.569485</td>\n",
       "    </tr>\n",
       "    <tr>\n",
       "      <th>110</th>\n",
       "      <td>7.698641</td>\n",
       "      <td>0.542805</td>\n",
       "      <td>7.694075</td>\n",
       "      <td>7.703208</td>\n",
       "    </tr>\n",
       "    <tr>\n",
       "      <th>120</th>\n",
       "      <td>3.926563</td>\n",
       "      <td>0.663196</td>\n",
       "      <td>3.921515</td>\n",
       "      <td>3.931610</td>\n",
       "    </tr>\n",
       "  </tbody>\n",
       "</table>\n",
       "</div>"
      ],
      "text/plain": [
       "          Mean       Var      Lower      Upper\n",
       "80   30.691963  0.675322  30.686869  30.697056\n",
       "90   21.439981  0.991517  21.433810  21.446153\n",
       "100  13.562552  1.251393  13.555618  13.569485\n",
       "110   7.698641  0.542805   7.694075   7.703208\n",
       "120   3.926563  0.663196   3.921515   3.931610"
      ]
     },
     "execution_count": 93,
     "metadata": {},
     "output_type": "execute_result"
    }
   ],
   "source": [
    "Ks = [80, 90, 100, 110, 120]\n",
    "def sample2(K):\n",
    "    Xn = phi(Gn, **params, strike=K)\n",
    "    Yn = psi(Gn, **params, strike=K)\n",
    "    lambd = (Xn*Yn).mean() / (Yn*Yn).mean()\n",
    "    return 0.5*((Xn - lambd * Yn) \\\n",
    "                + (phi(-Gn, strike=K, **params) - lambd * psi(-Gn, strike=K, **params)))\n",
    "result_acv = [monte_carlo(sample2(K)) for K in Ks]\n",
    "result_acv_df = pd.DataFrame(result_acv, \n",
    "                            columns=['Mean', 'Var', 'Lower', 'Upper'], index=Ks)\n",
    "result_acv_df"
   ]
  },
  {
   "cell_type": "code",
   "execution_count": 94,
   "metadata": {},
   "outputs": [
    {
     "data": {
      "text/plain": [
       "<Axes: xlabel='strike', ylabel='ratio'>"
      ]
     },
     "execution_count": 94,
     "metadata": {},
     "output_type": "execute_result"
    },
    {
     "data": {
      "image/png": "[encoded data removed]",
      "text/plain": [
       "<Figure size 640x480 with 1 Axes>"
      ]
     },
     "metadata": {},
     "output_type": "display_data"
    }
   ],
   "source": [
    "ratio_var = pd.concat([\n",
    "    mk_ratio_df(\"Antithetic\", result_df['Var'] / result_antith_df['Var']),\n",
    "    mk_ratio_df(\"Control Variate\", result_df['Var'] / result_cv_df['Var']),\n",
    "    mk_ratio_df(\"Control Variate adapt\", result_df['Var'] / result_cv2_df['Var']),\n",
    "    mk_ratio_df(\"Antithetic + Control Variate\", result_df['Var'] / result_acv_df['Var']),\n",
    "], ignore_index=True)\n",
    "sns.barplot(data=ratio_var, x=\"strike\", y=\"ratio\", hue=\"method\")"
   ]
  },
  {
   "cell_type": "markdown",
   "metadata": {},
   "source": [
    "The result is much better than the previous methods in terms of the ratio, and it also appears to be independent of the strike value."
   ]
  },
  {
   "cell_type": "markdown",
   "metadata": {},
   "source": [
    "## Sensitivities to Parameters"
   ]
  },
  {
   "cell_type": "markdown",
   "metadata": {},
   "source": [
    "As all our code works (or seems to work) for a given set of parameters, let's now begin a proper numerical study by varying the parameters.\n",
    "\n",
    "For example, we will rerun the notebook with a different correlation.\n",
    "- What are the variance ratios with $\\rho = 0$ ? $\\rho = 0.5$ ? How do we interpret these results?\n",
    "- Similarly, what if the volatilities $\\sigma_i$ are not all identical ?\n",
    "- Dependence on the dimension $d$ ?\n",
    "\n",
    "To address these questions, we'll take the code from the notebook and implement a function that returns a `DataFrame` containing all the results for each parameter value."
   ]
  },
  {
   "cell_type": "code",
   "execution_count": 164,
   "metadata": {},
   "outputs": [],
   "source": [
    "# Function to run the simulation with different parameters\n",
    "def run_simulation(d, rho, sigma_values, T=1, r=0.1, S0_value=100, K=100, n=int(1e5)):\n",
    "    S0 = np.full(d, S0_value)\n",
    "    sigma = sigma_values if isinstance(sigma_values, np.ndarray) else np.full(d, sigma_values)\n",
    "    correl = np.full((d,d), rho) + (1-rho)*np.eye(d)\n",
    "    params = {\n",
    "        \"S0\": S0[:, np.newaxis],\n",
    "        \"sigma\": sigma[:, np.newaxis],\n",
    "        \"mu\": r - 0.5 * sigma[:, np.newaxis]**2,\n",
    "        \"sq_correl\": np.linalg.cholesky(correl),\n",
    "        \"maturity\": T,\n",
    "        \"strike\": K\n",
    "    }\n",
    "    \n",
    "    # Generate normal random variables\n",
    "    Gn = rng.standard_normal((d, n))\n",
    "    \n",
    "    # Monte Carlo sampling\n",
    "    sample = phi(Gn, **params)\n",
    "    result = monte_carlo(sample)\n",
    "    \n",
    "    # Antithetic Sampling\n",
    "    sample_antith = phi_antith(Gn, **params)\n",
    "    result_antith = monte_carlo(sample_antith)\n",
    "    \n",
    "    # Control Variate\n",
    "    sample_cv = phi(Gn, **params) - psi(Gn, **params)\n",
    "    result_cv = monte_carlo(sample_cv)\n",
    "    \n",
    "    # optimal control variate\n",
    "    sample_ocv= sample1(K)\n",
    "    result_ocv=  monte_carlo(sample_ocv)\n",
    "    \n",
    "    # Combination of av et cv\n",
    "    sample_combi= sample2(K)\n",
    "    result_combi= monte_carlo(sample_combi)\n",
    "    \n",
    "    return result, result_antith, result_cv, result_ocv, result_combi"
   ]
  },
  {
   "cell_type": "markdown",
   "metadata": {},
   "source": [
    "### 1. Parameter $\\rho $"
   ]
  },
  {
   "cell_type": "code",
   "execution_count": 166,
   "metadata": {},
   "outputs": [],
   "source": [
    "#N = 500000\n",
    "rho_values = np.linspace(0.,1.,10,endpoint=False)\n",
    "#print(rho_values)\n",
    "d_values = [10]\n",
    "sigma_values = [0.2]\n"
   ]
  },
  {
   "cell_type": "code",
   "execution_count": 167,
   "metadata": {},
   "outputs": [],
   "source": [
    "def collect_results(d_values, rho_values, sigma_values):\n",
    "    results = []\n",
    "    \n",
    "    # Étudier la dépendance par rapport à rho\n",
    "    for d in d_values:\n",
    "        for sigma in sigma_values:\n",
    "            for rho in rho_values:\n",
    "                res, res_antith, res_cv,res_ocv, res_combi = run_simulation(d, rho, sigma)\n",
    "                #print(res)\n",
    "                #print(res_antith)\n",
    "                #print(res_combi)\n",
    "                \n",
    "                # Calculer les ratios de variance\n",
    "                mc_var = res[1]\n",
    "                antith_var = res_antith[1]\n",
    "                cv_var = res_cv[1]\n",
    "                ocv_var= res_ocv[1]\n",
    "                combi_var=res_combi[1]\n",
    "                \n",
    "                ratio_antith =  mc_var/antith_var  if antith_var != 0 else None\n",
    "                ratio_cv =  mc_var/cv_var if cv_var != 0 else None\n",
    "                ratio_ocv = mc_var/ocv_var   if ocv_var != 0 else None\n",
    "                ratio_combi = mc_var/combi_var if combi_var != 0 else None\n",
    "                \n",
    "                \n",
    "                results.append({\n",
    "                    \"rho\": rho,\n",
    "                    \"Ratio_Antithetic\": ratio_antith,\n",
    "                    \"Ratio_CV\": ratio_cv,\n",
    "                    \"Ratio_OCV\": ratio_ocv,\n",
    "                    \"Ratio_Combi\": ratio_combi\n",
    "                    \n",
    "                })\n",
    "                \n",
    "    return pd.DataFrame(results)"
   ]
  },
  {
   "cell_type": "code",
   "execution_count": 168,
   "metadata": {},
   "outputs": [
    {
     "data": {
      "text/html": [
       "<div>\n",
       "<style scoped>\n",
       "    .dataframe tbody tr th:only-of-type {\n",
       "        vertical-align: middle;\n",
       "    }\n",
       "\n",
       "    .dataframe tbody tr th {\n",
       "        vertical-align: top;\n",
       "    }\n",
       "\n",
       "    .dataframe thead th {\n",
       "        text-align: right;\n",
       "    }\n",
       "</style>\n",
       "<table border=\"1\" class=\"dataframe\">\n",
       "  <thead>\n",
       "    <tr style=\"text-align: right;\">\n",
       "      <th></th>\n",
       "      <th>rho</th>\n",
       "      <th>Ratio_Antithetic</th>\n",
       "      <th>Ratio_CV</th>\n",
       "      <th>Ratio_OCV</th>\n",
       "      <th>Ratio_Combi</th>\n",
       "    </tr>\n",
       "  </thead>\n",
       "  <tbody>\n",
       "    <tr>\n",
       "      <th>0</th>\n",
       "      <td>0.0</td>\n",
       "      <td>28.674045</td>\n",
       "      <td>41.094212</td>\n",
       "      <td>24.469720</td>\n",
       "      <td>36.266001</td>\n",
       "    </tr>\n",
       "    <tr>\n",
       "      <th>1</th>\n",
       "      <td>0.1</td>\n",
       "      <td>18.752577</td>\n",
       "      <td>73.055267</td>\n",
       "      <td>41.841580</td>\n",
       "      <td>62.012430</td>\n",
       "    </tr>\n",
       "    <tr>\n",
       "      <th>2</th>\n",
       "      <td>0.2</td>\n",
       "      <td>12.954572</td>\n",
       "      <td>114.186839</td>\n",
       "      <td>57.182334</td>\n",
       "      <td>84.748604</td>\n",
       "    </tr>\n",
       "    <tr>\n",
       "      <th>3</th>\n",
       "      <td>0.3</td>\n",
       "      <td>10.386847</td>\n",
       "      <td>178.162365</td>\n",
       "      <td>72.356731</td>\n",
       "      <td>107.238223</td>\n",
       "    </tr>\n",
       "    <tr>\n",
       "      <th>4</th>\n",
       "      <td>0.4</td>\n",
       "      <td>8.767998</td>\n",
       "      <td>277.298086</td>\n",
       "      <td>86.077289</td>\n",
       "      <td>127.573142</td>\n",
       "    </tr>\n",
       "    <tr>\n",
       "      <th>5</th>\n",
       "      <td>0.5</td>\n",
       "      <td>7.763866</td>\n",
       "      <td>444.632066</td>\n",
       "      <td>99.223803</td>\n",
       "      <td>147.057283</td>\n",
       "    </tr>\n",
       "    <tr>\n",
       "      <th>6</th>\n",
       "      <td>0.6</td>\n",
       "      <td>6.969526</td>\n",
       "      <td>764.740859</td>\n",
       "      <td>113.388095</td>\n",
       "      <td>168.049850</td>\n",
       "    </tr>\n",
       "    <tr>\n",
       "      <th>7</th>\n",
       "      <td>0.7</td>\n",
       "      <td>6.485532</td>\n",
       "      <td>1517.941051</td>\n",
       "      <td>129.774644</td>\n",
       "      <td>192.335973</td>\n",
       "    </tr>\n",
       "    <tr>\n",
       "      <th>8</th>\n",
       "      <td>0.8</td>\n",
       "      <td>6.061631</td>\n",
       "      <td>3648.015361</td>\n",
       "      <td>142.630624</td>\n",
       "      <td>211.389521</td>\n",
       "    </tr>\n",
       "    <tr>\n",
       "      <th>9</th>\n",
       "      <td>0.9</td>\n",
       "      <td>5.700397</td>\n",
       "      <td>15649.770939</td>\n",
       "      <td>156.078859</td>\n",
       "      <td>231.320836</td>\n",
       "    </tr>\n",
       "  </tbody>\n",
       "</table>\n",
       "</div>"
      ],
      "text/plain": [
       "   rho  Ratio_Antithetic      Ratio_CV   Ratio_OCV  Ratio_Combi\n",
       "0  0.0         28.674045     41.094212   24.469720    36.266001\n",
       "1  0.1         18.752577     73.055267   41.841580    62.012430\n",
       "2  0.2         12.954572    114.186839   57.182334    84.748604\n",
       "3  0.3         10.386847    178.162365   72.356731   107.238223\n",
       "4  0.4          8.767998    277.298086   86.077289   127.573142\n",
       "5  0.5          7.763866    444.632066   99.223803   147.057283\n",
       "6  0.6          6.969526    764.740859  113.388095   168.049850\n",
       "7  0.7          6.485532   1517.941051  129.774644   192.335973\n",
       "8  0.8          6.061631   3648.015361  142.630624   211.389521\n",
       "9  0.9          5.700397  15649.770939  156.078859   231.320836"
      ]
     },
     "execution_count": 168,
     "metadata": {},
     "output_type": "execute_result"
    }
   ],
   "source": [
    "df_results = collect_results(d_values=d_values, rho_values=rho_values, sigma_values=sigma_values)\n",
    "\n",
    "# Display results\n",
    "df_results\n"
   ]
  },
  {
   "cell_type": "markdown",
   "metadata": {},
   "source": [
    "As all the ratio don't have the same scale . Let's plot different graphs to see the evolution of each ratio up to $\\rho$"
   ]
  },
  {
   "cell_type": "code",
   "execution_count": 143,
   "metadata": {},
   "outputs": [
    {
     "data": {
      "image/png": "[encoded data removed]",
      "text/plain": [
       "<Figure size 1000x600 with 1 Axes>"
      ]
     },
     "metadata": {},
     "output_type": "display_data"
    }
   ],
   "source": [
    "fig = plt.figure(figsize=(10,6))\n",
    "\n",
    "plt.plot(df_results['rho'], df_results['Ratio_Antithetic'], color='Red', label='Antithetic')\n",
    "plt.xlabel('rho')\n",
    " #plt.plot(df_results['rho'],df_results['Ratio_Antithetic'])\n",
    "#plt.xlabel('Time step h')\n",
    "plt.legend()\n",
    "plt.show()"
   ]
  },
  {
   "cell_type": "markdown",
   "metadata": {},
   "source": [
    "The more the correlation between assets are important the less the Antithetic variates performs"
   ]
  },
  {
   "cell_type": "code",
   "execution_count": 145,
   "metadata": {},
   "outputs": [
    {
     "data": {
      "image/png": "[encoded data removed]",
      "text/plain": [
       "<Figure size 1000x600 with 1 Axes>"
      ]
     },
     "metadata": {},
     "output_type": "display_data"
    }
   ],
   "source": [
    "fig = plt.figure(figsize=(10,6))\n",
    "\n",
    "plt.plot(df_results['rho'], df_results['Ratio_CV'], color='Blue', label='Control Variate')\n",
    "plt.xlabel('rho')\n",
    " #plt.plot(df_results['rho'],df_results['Ratio_Antithetic'])\n",
    "#plt.xlabel('Time step h')\n",
    "plt.legend()\n",
    "plt.show()"
   ]
  },
  {
   "cell_type": "markdown",
   "metadata": {},
   "source": [
    "Reversly we can see that the more assets are correlated the best the control Variate performs"
   ]
  },
  {
   "cell_type": "code",
   "execution_count": 146,
   "metadata": {},
   "outputs": [
    {
     "data": {
      "image/png": "[encoded data removed]",
      "text/plain": [
       "<Figure size 1000x600 with 1 Axes>"
      ]
     },
     "metadata": {},
     "output_type": "display_data"
    }
   ],
   "source": [
    "fig = plt.figure(figsize=(10,6))\n",
    "\n",
    "plt.plot(df_results['rho'], df_results['Ratio_OCV'], color='Red', label='Optimal Control Variate')\n",
    "plt.xlabel('rho')\n",
    " #plt.plot(df_results['rho'],df_results['Ratio_Antithetic'])\n",
    "#plt.xlabel('Time step h')\n",
    "plt.legend()\n",
    "plt.show()"
   ]
  },
  {
   "cell_type": "markdown",
   "metadata": {},
   "source": [
    "the slope is quite linear with the Optimal Control Variate"
   ]
  },
  {
   "cell_type": "code",
   "execution_count": 148,
   "metadata": {},
   "outputs": [
    {
     "data": {
      "image/png": "[encoded data removed]",
      "text/plain": [
       "<Figure size 1000x600 with 1 Axes>"
      ]
     },
     "metadata": {},
     "output_type": "display_data"
    }
   ],
   "source": [
    "fig = plt.figure(figsize=(10,6))\n",
    "\n",
    "plt.plot(df_results['rho'], df_results['Ratio_Combi'], color='Red', label='Antithetic + Control Variate')\n",
    "plt.xlabel('rho')\n",
    " #plt.plot(df_results['rho'],df_results['Ratio_Antithetic'])\n",
    "#plt.xlabel('Time step h')\n",
    "plt.legend()\n",
    "plt.show()"
   ]
  },
  {
   "cell_type": "markdown",
   "metadata": {},
   "source": [
    "the slope is quite linear with the Optimal Control Variate"
   ]
  },
  {
   "cell_type": "markdown",
   "metadata": {},
   "source": [
    "### 2. Parameter $\\sigma$"
   ]
  },
  {
   "cell_type": "markdown",
   "metadata": {},
   "source": [
    "Let consider that we don't have the same volatility $\\sigma$ for all olur assets."
   ]
  },
  {
   "cell_type": "code",
   "execution_count": 204,
   "metadata": {},
   "outputs": [],
   "source": [
    "# Fonction de simulation\n",
    "def run_simulation2(d, rho, sigma_values, T=1, r=0.1, S0_value=100, K=100, n=int(1e5)):\n",
    "    S0 = np.full(d, S0_value)\n",
    "    sigma = sigma_values if isinstance(sigma_values, np.ndarray) else np.full(d, sigma_values)\n",
    "    correl = np.full((d, d), rho) + (1 - rho) * np.eye(d)\n",
    "    params = {\n",
    "        \"S0\": S0[:, np.newaxis],\n",
    "        \"sigma\": sigma[:, np.newaxis],\n",
    "        \"mu\": r - 0.5 * sigma[:, np.newaxis] ** 2,\n",
    "        \"sq_correl\": np.linalg.cholesky(correl),\n",
    "        \"maturity\": T,\n",
    "        \"strike\": K\n",
    "    }\n",
    "\n",
    "    # Générer des variables aléatoires normales\n",
    "    rng = np.random.default_rng()\n",
    "    Gn = rng.standard_normal((d, n))\n",
    "\n",
    "    # Échantillonnage Monte Carlo\n",
    "    sample = phi(Gn, **params)\n",
    "    result = monte_carlo(sample)\n",
    "\n",
    "    # Échantillonnage Antithetic\n",
    "    sample_antith = phi_antith(Gn, **params)\n",
    "    result_antith = monte_carlo(sample_antith)\n",
    "\n",
    "    # Control Variate\n",
    "    sample_cv = phi(Gn, **params) - psi(Gn, **params)\n",
    "    result_cv = monte_carlo(sample_cv)\n",
    "\n",
    "    # Optimal Control Variate\n",
    "    sample_ocv = sample1(K)  # Assurez-vous que sample1 utilise les bons paramètres\n",
    "    result_ocv = monte_carlo(sample_ocv)\n",
    "\n",
    "    # Combinaison de Antithetic et Control Variate\n",
    "    sample_combi = sample2(K)  # Assurez-vous que sample2 utilise les bons paramètres\n",
    "    result_combi = monte_carlo(sample_combi)\n",
    "\n",
    "    return result, result_antith, result_cv, result_ocv, result_combi\n"
   ]
  },
  {
   "cell_type": "code",
   "execution_count": 179,
   "metadata": {},
   "outputs": [],
   "source": [
    "# Fonction pour collecter les résultats\n",
    "def collect_results2(d, rho, sigma_values):\n",
    "    res, res_antith, res_cv, res_ocv, res_combi = run_simulation(d, rho, sigma_values)\n",
    "\n",
    "    # Calculer les ratios de variance\n",
    "    mc_var = res[1]\n",
    "    antith_var = res_antith[1]\n",
    "    cv_var = res_cv[1]\n",
    "    ocv_var = res_ocv[1]\n",
    "    combi_var = res_combi[1]\n",
    "\n",
    "    ratio_antith = mc_var / antith_var if antith_var != 0 else None\n",
    "    ratio_cv = mc_var / cv_var if cv_var != 0 else None\n",
    "    ratio_ocv = mc_var / ocv_var if ocv_var != 0 else None\n",
    "    ratio_combi = mc_var / combi_var if combi_var != 0 else None\n",
    "\n",
    "    results = {\n",
    "        # Utilisation de la moyenne des sigmas\n",
    "        \"Ratio_Antithetic\": ratio_antith,\n",
    "        \"Ratio_CV\": ratio_cv,\n",
    "        \"Ratio_OCV\": ratio_ocv,\n",
    "        \"Ratio_Combi\": ratio_combi\n",
    "    }\n",
    "\n",
    "    return pd.DataFrame([results])\n"
   ]
  },
  {
   "cell_type": "code",
   "execution_count": 192,
   "metadata": {},
   "outputs": [
    {
     "name": "stdout",
     "output_type": "stream",
     "text": [
      "[0.0125 0.025  0.0375 0.05   0.0625 0.075  0.0875 0.1    0.1125 0.125\n",
      " 0.1375 0.15   0.1625 0.175  0.1875 0.2    0.2125 0.225  0.2375 0.25\n",
      " 0.2625 0.275  0.2875 0.3    0.3125 0.325  0.3375 0.35   0.3625 0.375\n",
      " 0.3875 0.4    0.4125 0.425  0.4375 0.45   0.4625 0.475  0.4875 0.5   ]\n"
     ]
    }
   ],
   "source": [
    "# Exemple d'utilisation\n",
    "d = 40  # Nombre d'actifs\n",
    "rho = 0.3  # Valeur de la corrélation\n",
    "sigma_values = np.arange(1, d + 1) / (2 * d)\n",
    "print(sigma_values)# Exemple de sigma_value"
   ]
  },
  {
   "cell_type": "code",
   "execution_count": 193,
   "metadata": {},
   "outputs": [
    {
     "name": "stdout",
     "output_type": "stream",
     "text": [
      "   Ratio_Antithetic   Ratio_CV   Ratio_OCV  Ratio_Combi\n",
      "0          7.069773  43.940813  102.838521   152.414573\n"
     ]
    }
   ],
   "source": [
    "df_results1 = collect_results2(d, rho, sigma_values)\n",
    "print(df_results1)\n"
   ]
  },
  {
   "cell_type": "code",
   "execution_count": 196,
   "metadata": {},
   "outputs": [
    {
     "data": {
      "text/html": [
       "<div>\n",
       "<style scoped>\n",
       "    .dataframe tbody tr th:only-of-type {\n",
       "        vertical-align: middle;\n",
       "    }\n",
       "\n",
       "    .dataframe tbody tr th {\n",
       "        vertical-align: top;\n",
       "    }\n",
       "\n",
       "    .dataframe thead th {\n",
       "        text-align: right;\n",
       "    }\n",
       "</style>\n",
       "<table border=\"1\" class=\"dataframe\">\n",
       "  <thead>\n",
       "    <tr style=\"text-align: right;\">\n",
       "      <th></th>\n",
       "      <th>method</th>\n",
       "      <th>ratio</th>\n",
       "    </tr>\n",
       "  </thead>\n",
       "  <tbody>\n",
       "    <tr>\n",
       "      <th>0</th>\n",
       "      <td>Antithetic</td>\n",
       "      <td>7.069773</td>\n",
       "    </tr>\n",
       "    <tr>\n",
       "      <th>1</th>\n",
       "      <td>CV</td>\n",
       "      <td>43.940813</td>\n",
       "    </tr>\n",
       "    <tr>\n",
       "      <th>2</th>\n",
       "      <td>OCV</td>\n",
       "      <td>102.838521</td>\n",
       "    </tr>\n",
       "    <tr>\n",
       "      <th>3</th>\n",
       "      <td>Combi</td>\n",
       "      <td>152.414573</td>\n",
       "    </tr>\n",
       "  </tbody>\n",
       "</table>\n",
       "</div>"
      ],
      "text/plain": [
       "       method       ratio\n",
       "0  Antithetic    7.069773\n",
       "1          CV   43.940813\n",
       "2         OCV  102.838521\n",
       "3       Combi  152.414573"
      ]
     },
     "execution_count": 196,
     "metadata": {},
     "output_type": "execute_result"
    }
   ],
   "source": [
    "df_melted1=pd.melt(df_results1, var_name='method', value_name='ratio')\n",
    "df_melted1['method']= df_melted1['method'].str.split('_').str[-1]\n",
    "df_melted1"
   ]
  },
  {
   "cell_type": "code",
   "execution_count": 197,
   "metadata": {},
   "outputs": [
    {
     "data": {
      "text/plain": [
       "<Axes: xlabel='method', ylabel='ratio'>"
      ]
     },
     "execution_count": 197,
     "metadata": {},
     "output_type": "execute_result"
    },
    {
     "data": {
      "image/png": "[encoded data removed]",
      "text/plain": [
       "<Figure size 640x480 with 1 Axes>"
      ]
     },
     "metadata": {},
     "output_type": "display_data"
    }
   ],
   "source": [
    "sns.barplot(data=df_melted1, x=\"method\", y=\"ratio\", hue=\"method\")"
   ]
  },
  {
   "cell_type": "markdown",
   "metadata": {},
   "source": [
    "We can see that if each of our assets has a volatility less then 0.5, the Combination of Antithetic variates and Control variates method and the Optimal Control Variate perform far better than the two other methods "
   ]
  },
  {
   "cell_type": "code",
   "execution_count": 183,
   "metadata": {},
   "outputs": [
    {
     "name": "stdout",
     "output_type": "stream",
     "text": [
      "[0.5        0.51282051 0.52564103 0.53846154 0.55128205 0.56410256\n",
      " 0.57692308 0.58974359 0.6025641  0.61538462 0.62820513 0.64102564\n",
      " 0.65384615 0.66666667 0.67948718 0.69230769 0.70512821 0.71794872\n",
      " 0.73076923 0.74358974 0.75641026 0.76923077 0.78205128 0.79487179\n",
      " 0.80769231 0.82051282 0.83333333 0.84615385 0.85897436 0.87179487\n",
      " 0.88461538 0.8974359  0.91025641 0.92307692 0.93589744 0.94871795\n",
      " 0.96153846 0.97435897 0.98717949 1.        ]\n"
     ]
    }
   ],
   "source": [
    "# Exemple d'utilisation\n",
    "d = 40  # Nombre d'actifs\n",
    "rho = 0.3  # Valeur de la corrélation\n",
    "sigma_values = np.arange(1, d + 1) / (2 * d)\n",
    "sigma_values_normalized= (sigma_values-np.min(sigma_values))/(np.max(sigma_values)-np.min(sigma_values))\n",
    "sigma_values_scaled= 0.5 + 0.5*sigma_values_normalized\n",
    "print(sigma_values_scaled)# Exemple de sigma_value"
   ]
  },
  {
   "cell_type": "code",
   "execution_count": 184,
   "metadata": {},
   "outputs": [
    {
     "name": "stdout",
     "output_type": "stream",
     "text": [
      "   Ratio_Antithetic  Ratio_CV   Ratio_OCV  Ratio_Combi\n",
      "0          3.129714  6.217408  831.514979   1232.36895\n"
     ]
    }
   ],
   "source": [
    "df_results2 = collect_results2(d, rho, sigma_values_scaled)\n",
    "print(df_results2)\n"
   ]
  },
  {
   "cell_type": "code",
   "execution_count": 188,
   "metadata": {},
   "outputs": [
    {
     "data": {
      "text/html": [
       "<div>\n",
       "<style scoped>\n",
       "    .dataframe tbody tr th:only-of-type {\n",
       "        vertical-align: middle;\n",
       "    }\n",
       "\n",
       "    .dataframe tbody tr th {\n",
       "        vertical-align: top;\n",
       "    }\n",
       "\n",
       "    .dataframe thead th {\n",
       "        text-align: right;\n",
       "    }\n",
       "</style>\n",
       "<table border=\"1\" class=\"dataframe\">\n",
       "  <thead>\n",
       "    <tr style=\"text-align: right;\">\n",
       "      <th></th>\n",
       "      <th>method</th>\n",
       "      <th>ratio</th>\n",
       "    </tr>\n",
       "  </thead>\n",
       "  <tbody>\n",
       "    <tr>\n",
       "      <th>0</th>\n",
       "      <td>Antithetic</td>\n",
       "      <td>3.129714</td>\n",
       "    </tr>\n",
       "    <tr>\n",
       "      <th>1</th>\n",
       "      <td>CV</td>\n",
       "      <td>6.217408</td>\n",
       "    </tr>\n",
       "    <tr>\n",
       "      <th>2</th>\n",
       "      <td>OCV</td>\n",
       "      <td>831.514979</td>\n",
       "    </tr>\n",
       "    <tr>\n",
       "      <th>3</th>\n",
       "      <td>Combi</td>\n",
       "      <td>1232.368950</td>\n",
       "    </tr>\n",
       "  </tbody>\n",
       "</table>\n",
       "</div>"
      ],
      "text/plain": [
       "       method        ratio\n",
       "0  Antithetic     3.129714\n",
       "1          CV     6.217408\n",
       "2         OCV   831.514979\n",
       "3       Combi  1232.368950"
      ]
     },
     "execution_count": 188,
     "metadata": {},
     "output_type": "execute_result"
    }
   ],
   "source": [
    "df_melted=pd.melt(df_results2, var_name='method', value_name='ratio')\n",
    "df_melted['method']= df_melted['method'].str.split('_').str[-1]\n",
    "df_melted"
   ]
  },
  {
   "cell_type": "code",
   "execution_count": 191,
   "metadata": {},
   "outputs": [
    {
     "data": {
      "text/plain": [
       "<Axes: xlabel='method', ylabel='ratio'>"
      ]
     },
     "execution_count": 191,
     "metadata": {},
     "output_type": "execute_result"
    },
    {
     "data": {
      "image/png": "[encoded data removed]",
      "text/plain": [
       "<Figure size 640x480 with 1 Axes>"
      ]
     },
     "metadata": {},
     "output_type": "display_data"
    }
   ],
   "source": [
    "sns.barplot(data=df_melted, x=\"method\", y=\"ratio\", hue=\"method\")"
   ]
  },
  {
   "cell_type": "markdown",
   "metadata": {},
   "source": [
    "The performance of the antithetic and control variate diminuate while those of optimal control variate and of Combination method raised"
   ]
  },
  {
   "cell_type": "markdown",
   "metadata": {},
   "source": [
    "### 3. Dependence on the dimension $d$"
   ]
  },
  {
   "cell_type": "code",
   "execution_count": 207,
   "metadata": {},
   "outputs": [],
   "source": [
    "#N = 500000\n",
    "rho_values = [0.3]\n",
    "#print(rho_values)\n",
    "d_values = [i for i in range(1,100,10)]\n",
    "sigma_values = [0.2]\n"
   ]
  },
  {
   "cell_type": "code",
   "execution_count": 208,
   "metadata": {},
   "outputs": [],
   "source": [
    "def collect_results3(d_values, rho_values, sigma_values):\n",
    "    results = []\n",
    "    \n",
    "    # Étudier la dépendance par rapport à rho\n",
    "    for d in d_values:\n",
    "        for sigma in sigma_values:\n",
    "            for rho in rho_values:\n",
    "                res, res_antith, res_cv,res_ocv, res_combi = run_simulation(d, rho, sigma)\n",
    "                #print(res)\n",
    "                #print(res_antith)\n",
    "                #print(res_combi)\n",
    "                \n",
    "                # Calculer les ratios de variance\n",
    "                mc_var = res[1]\n",
    "                antith_var = res_antith[1]\n",
    "                cv_var = res_cv[1]\n",
    "                ocv_var= res_ocv[1]\n",
    "                combi_var=res_combi[1]\n",
    "                \n",
    "                ratio_antith =  mc_var/antith_var  if antith_var != 0 else None\n",
    "                ratio_cv =  mc_var/cv_var if cv_var != 0 else None\n",
    "                ratio_ocv = mc_var/ocv_var   if ocv_var != 0 else None\n",
    "                ratio_combi = mc_var/combi_var if combi_var != 0 else None\n",
    "                \n",
    "                \n",
    "                results.append({\n",
    "                    \"d\": d,\n",
    "                    \"Ratio_Antithetic\": ratio_antith,\n",
    "                    \"Ratio_CV\": ratio_cv,\n",
    "                    \"Ratio_OCV\": ratio_ocv,\n",
    "                    \"Ratio_Combi\": ratio_combi\n",
    "                    \n",
    "                })\n",
    "                \n",
    "    return pd.DataFrame(results)"
   ]
  },
  {
   "cell_type": "code",
   "execution_count": 213,
   "metadata": {},
   "outputs": [
    {
     "data": {
      "text/html": [
       "<div>\n",
       "<style scoped>\n",
       "    .dataframe tbody tr th:only-of-type {\n",
       "        vertical-align: middle;\n",
       "    }\n",
       "\n",
       "    .dataframe tbody tr th {\n",
       "        vertical-align: top;\n",
       "    }\n",
       "\n",
       "    .dataframe thead th {\n",
       "        text-align: right;\n",
       "    }\n",
       "</style>\n",
       "<table border=\"1\" class=\"dataframe\">\n",
       "  <thead>\n",
       "    <tr style=\"text-align: right;\">\n",
       "      <th></th>\n",
       "      <th>d</th>\n",
       "      <th>Ratio_Antithetic</th>\n",
       "      <th>Ratio_CV</th>\n",
       "      <th>Ratio_OCV</th>\n",
       "      <th>Ratio_Combi</th>\n",
       "    </tr>\n",
       "  </thead>\n",
       "  <tbody>\n",
       "    <tr>\n",
       "      <th>0</th>\n",
       "      <td>1</td>\n",
       "      <td>5.412837</td>\n",
       "      <td>1.008708e+32</td>\n",
       "      <td>171.619141</td>\n",
       "      <td>254.352725</td>\n",
       "    </tr>\n",
       "    <tr>\n",
       "      <th>1</th>\n",
       "      <td>11</td>\n",
       "      <td>10.532030</td>\n",
       "      <td>1.787657e+02</td>\n",
       "      <td>70.548585</td>\n",
       "      <td>104.558412</td>\n",
       "    </tr>\n",
       "    <tr>\n",
       "      <th>2</th>\n",
       "      <td>21</td>\n",
       "      <td>11.440591</td>\n",
       "      <td>2.044136e+02</td>\n",
       "      <td>65.638362</td>\n",
       "      <td>97.281085</td>\n",
       "    </tr>\n",
       "    <tr>\n",
       "      <th>3</th>\n",
       "      <td>31</td>\n",
       "      <td>11.868845</td>\n",
       "      <td>2.180271e+02</td>\n",
       "      <td>64.034655</td>\n",
       "      <td>94.904268</td>\n",
       "    </tr>\n",
       "    <tr>\n",
       "      <th>4</th>\n",
       "      <td>41</td>\n",
       "      <td>11.982243</td>\n",
       "      <td>2.252420e+02</td>\n",
       "      <td>63.126204</td>\n",
       "      <td>93.557874</td>\n",
       "    </tr>\n",
       "    <tr>\n",
       "      <th>5</th>\n",
       "      <td>51</td>\n",
       "      <td>12.175626</td>\n",
       "      <td>2.312431e+02</td>\n",
       "      <td>62.785241</td>\n",
       "      <td>93.052541</td>\n",
       "    </tr>\n",
       "    <tr>\n",
       "      <th>6</th>\n",
       "      <td>61</td>\n",
       "      <td>12.370368</td>\n",
       "      <td>2.343431e+02</td>\n",
       "      <td>62.250812</td>\n",
       "      <td>92.260476</td>\n",
       "    </tr>\n",
       "    <tr>\n",
       "      <th>7</th>\n",
       "      <td>71</td>\n",
       "      <td>12.515430</td>\n",
       "      <td>2.375406e+02</td>\n",
       "      <td>61.797985</td>\n",
       "      <td>91.589352</td>\n",
       "    </tr>\n",
       "    <tr>\n",
       "      <th>8</th>\n",
       "      <td>81</td>\n",
       "      <td>12.244756</td>\n",
       "      <td>2.404823e+02</td>\n",
       "      <td>62.028627</td>\n",
       "      <td>91.931180</td>\n",
       "    </tr>\n",
       "    <tr>\n",
       "      <th>9</th>\n",
       "      <td>91</td>\n",
       "      <td>12.570819</td>\n",
       "      <td>2.431818e+02</td>\n",
       "      <td>61.246049</td>\n",
       "      <td>90.771340</td>\n",
       "    </tr>\n",
       "  </tbody>\n",
       "</table>\n",
       "</div>"
      ],
      "text/plain": [
       "    d  Ratio_Antithetic      Ratio_CV   Ratio_OCV  Ratio_Combi\n",
       "0   1          5.412837  1.008708e+32  171.619141   254.352725\n",
       "1  11         10.532030  1.787657e+02   70.548585   104.558412\n",
       "2  21         11.440591  2.044136e+02   65.638362    97.281085\n",
       "3  31         11.868845  2.180271e+02   64.034655    94.904268\n",
       "4  41         11.982243  2.252420e+02   63.126204    93.557874\n",
       "5  51         12.175626  2.312431e+02   62.785241    93.052541\n",
       "6  61         12.370368  2.343431e+02   62.250812    92.260476\n",
       "7  71         12.515430  2.375406e+02   61.797985    91.589352\n",
       "8  81         12.244756  2.404823e+02   62.028627    91.931180\n",
       "9  91         12.570819  2.431818e+02   61.246049    90.771340"
      ]
     },
     "execution_count": 213,
     "metadata": {},
     "output_type": "execute_result"
    }
   ],
   "source": [
    "df_results4 = collect_results3(d_values=d_values, rho_values=rho_values, sigma_values=sigma_values)\n",
    "\n",
    "# Display results\n",
    "df_results4\n"
   ]
  },
  {
   "cell_type": "markdown",
   "metadata": {},
   "source": [
    "### POO"
   ]
  },
  {
   "cell_type": "code",
   "execution_count": 41,
   "metadata": {},
   "outputs": [],
   "source": [
    "class basket_black_scholes:\n",
    "    def __init__(self, S0, r, sigma, sq_correl, maturity, strike):\n",
    "        # initialisation de la propriété S0 \n",
    "        self.S0 = S0\n",
    "        # initialisation des autres arguments comme des attributs (sans vérification)\n",
    "        self.r, self.sigma, self.sq_correl = r, sigma, sq_correl\n",
    "        self.maturity, self.strike = maturity, strike\n",
    "    \n",
    "    @property\n",
    "    def S0(self):\n",
    "        return self._S0\n",
    "    \n",
    "    @S0.setter\n",
    "    def S0(self, value):\n",
    "        if value.any() <= 0:\n",
    "            raise ValueError('All elements of S0 must be positive. ')\n",
    "        if len(value.shape) == 2:\n",
    "            self.dim, c = value.shape \n",
    "            if c != 1: \n",
    "                raise ValueError('Must be a column vector of shape (d, 1)')\n",
    "            self._S0 = value\n",
    "            return \n",
    "        if len(value.shape) != 2:\n",
    "            raise ValueError('Must be a column vector of shape (d, 1)')\n",
    "        self._S0 = value\n",
    "    \n",
    "    def __repr__(self):\n",
    "        return repr(f\"Basket product of strike {self.strike} and maturity {self.maturity} in the BS model.\")\n",
    "        \n",
    "    def __generate__(self, indep_Gn):\n",
    "        mu_T = (self.r - 0.5*self.sigma**2) * self.maturity\n",
    "        sigrho_sqT = self.sigma * np.sqrt(self.maturity) * self.sq_correl\n",
    "        ST = self.S0 * np.exp(mu_T + sigrho_sqT @ indep_Gn)\n",
    "        return ST\n",
    "        \n",
    "    def call(self, indep_Gn):\n",
    "        ST = self.__generate__(indep_Gn)\n",
    "        return np.maximum(np.mean(ST, axis=0) - self.strike, 0)\n",
    "\n",
    "    def call_cv(self, indep_Gn):\n",
    "        weight = self.S0 / self.S0.sum()\n",
    "        m = (weight * (self.r - 0.5*self.sigma**2)).sum() \n",
    "        s2 = (((weight * self.sigma).T @ self.sq_correl)**2).sum()\n",
    "        rho = m + 0.5*s2\n",
    "        sigrho_sqT = self.sigma * np.sqrt(self.maturity) * self.sq_correl\n",
    "        Z = np.sum(weight * (m*self.maturity + sigrho_sqT @ indep_Gn), axis = 0)\n",
    "        \n",
    "        Y = np.maximum(self.S0.mean() * np.exp(Z) - self.strike, 0) \n",
    "        Y_mean = np.exp(rho*T) * price_call_BS(self.S0.mean(), self.maturity, rho, np.sqrt(s2), strike=self.strike) \n",
    "        return Y - Y_mean\n",
    "\n",
    "    def put(self, indep_Gn):\n",
    "        ST = self.__generate__(indep_Gn)\n",
    "        return np.maximum(strike - np.mean(ST, axis=0), 0)\n",
    "\n",
    "    # TODO: def put_cv(self, indep_Gn)"
   ]
  },
  {
   "cell_type": "code",
   "execution_count": 42,
   "metadata": {},
   "outputs": [],
   "source": [
    "d = 40\n",
    "S0 = np.full(d, 100)[:, np.newaxis]\n",
    "r = 0.1\n",
    "sigma = np.full(d, 0.3)[:, np.newaxis]\n",
    "rho = 0.3\n",
    "correl = np.full((d,d), rho) + (1-rho)*np.eye(d) # ou np.diag(np.full(d, 1-0.2))\n",
    "sq_correl = np.linalg.cholesky(correl)\n",
    "T = 1\n",
    "K = 100\n",
    "\n",
    "X = basket_black_scholes(S0, r, sigma, sq_correl, strike=K, maturity=T)"
   ]
  },
  {
   "cell_type": "code",
   "execution_count": 43,
   "metadata": {},
   "outputs": [],
   "source": [
    "def compare_numerical_methods(X, size):\n",
    "    Gn = rng.standard_normal((X.dim, size)) \n",
    "    methods = {\n",
    "        \"crude\": \n",
    "            monte_carlo(X.call(Gn)),\n",
    "        \"antithetic\": \n",
    "            monte_carlo(0.5*(X.call(Gn) + X.call(-Gn))),\n",
    "        \"control variate\": \n",
    "            monte_carlo(X.call(Gn) - X.call_cv(Gn)),\n",
    "        \"antithetic + control variate\": \n",
    "            monte_carlo(0.5*(X.call(Gn) - X.call_cv(Gn)) + 0.5*(X.call(-Gn) - X.call_cv(-Gn))),\n",
    "    }\n",
    "    return methods"
   ]
  },
  {
   "cell_type": "code",
   "execution_count": 44,
   "metadata": {},
   "outputs": [
    {
     "data": {
      "text/plain": [
       "{'crude': (13.555861169297609,\n",
       "  234.33129992848046,\n",
       "  13.525858268786575,\n",
       "  13.585864069808643),\n",
       " 'antithetic': (13.559226523478207,\n",
       "  36.00338936190468,\n",
       "  13.54746618599839,\n",
       "  13.570986860958024),\n",
       " 'control variate': (13.55508373867327,\n",
       "  3.4736797095073926,\n",
       "  13.551430794989013,\n",
       "  13.558736682357527),\n",
       " 'antithetic + control variate': (13.55546299396159,\n",
       "  0.7020475010803481,\n",
       "  13.553820773950273,\n",
       "  13.557105213972909)}"
      ]
     },
     "execution_count": 44,
     "metadata": {},
     "output_type": "execute_result"
    }
   ],
   "source": [
    "compare_numerical_methods(X, int(1e6))"
   ]
  },
  {
   "cell_type": "code",
   "execution_count": 45,
   "metadata": {},
   "outputs": [],
   "source": [
    "\n",
    "class PositiveColumnVector():\n",
    "    def __set_name__(self, owner, name):\n",
    "        self.name = name\n",
    "\n",
    "    def __get__(self, obj, type=None) -> object:\n",
    "        return obj.__dict__.get(self.name)\n",
    "\n",
    "    def __set__(self, obj, value) -> None:\n",
    "        try:\n",
    "            dim, one = value.shape\n",
    "        except:\n",
    "            raise AttributeError(f\"{self.name} must be a column vector of shape (d, 1)\")\n",
    "        if one != 1:\n",
    "            raise AttributeError(f\"{self.name} must be a column vector of shape (d, 1)\")\n",
    "        if value.any() <= 0:\n",
    "            raise AttributeError(f\"All elements of {self.name} must be positive.\")\n",
    "        obj.__dict__[self.name] = value"
   ]
  },
  {
   "cell_type": "code",
   "execution_count": 46,
   "metadata": {},
   "outputs": [],
   "source": [
    "class basket_black_scholes:\n",
    "    S0 = PositiveColumnVector()\n",
    "    \n",
    "    def __init__(self, S0, r, sigma, sq_correl, maturity, strike):\n",
    "        self.S0 = S0\n",
    "        self.r, self.sigma, self.sq_correl = r, sigma, sq_correl\n",
    "        self.maturity, self.strike = maturity, strike\n",
    "    \n",
    "    def __repr__(self):\n",
    "        return repr(f\"Basket product of strike {self.strike} and maturity {self.maturity} in the BS model.\")\n",
    "        \n",
    "    def __generate__(self, indep_Gn):\n",
    "        mu_T = (self.r - 0.5*self.sigma**2) * self.maturity\n",
    "        sigrho_sqT = self.sigma * np.sqrt(self.maturity) * self.sq_correl\n",
    "        ST = self.S0 * np.exp(mu_T + sigrho_sqT @ indep_Gn)\n",
    "        return ST\n",
    "        \n",
    "    def call(self, indep_Gn):\n",
    "        ST = self.__generate__(indep_Gn)\n",
    "        return np.maximum(np.mean(ST, axis=0) - self.strike, 0)"
   ]
  },
  {
   "cell_type": "code",
   "execution_count": 48,
   "metadata": {},
   "outputs": [
    {
     "name": "stdout",
     "output_type": "stream",
     "text": [
      "Création de X: OK\n",
      "Création de Y:\n"
     ]
    }
   ],
   "source": [
    "S0 = np.full((d, 1), 100)\n",
    "X = basket_black_scholes(S0, r, sigma, sq_correl, strike=K, maturity=T)\n",
    "print(\"Création de X: OK\")\n",
    "\n",
    "S0 = np.full((d,1), 100)\n",
    "print(\"Création de Y:\")\n",
    "Y = basket_black_scholes(S0, r, sigma, sq_correl, strike=K, maturity=T)"
   ]
  },
  {
   "cell_type": "code",
   "execution_count": null,
   "metadata": {},
   "outputs": [],
   "source": []
  }
 ],
 "metadata": {
  "kernelspec": {
   "display_name": "Python 3",
   "language": "python",
   "name": "python3"
  },
  "language_info": {
   "codemirror_mode": {
    "name": "ipython",
    "version": 3
   },
   "file_extension": ".py",
   "mimetype": "text/x-python",
   "name": "python",
   "nbconvert_exporter": "python",
   "pygments_lexer": "ipython3",
   "version": "3.12.3"
  }
 },
 "nbformat": 4,
 "nbformat_minor": 2
}
