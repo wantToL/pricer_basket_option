{
 "cells": [
  {
   "cell_type": "markdown",
   "metadata": {},
   "source": [
    "# Pricer Option basket\n",
    "---\n"
   ]
  },
  {
   "cell_type": "markdown",
   "metadata": {},
   "source": [
    "#### Libraries set up \n",
    "---"
   ]
  },
  {
   "cell_type": "code",
   "execution_count": 1,
   "metadata": {},
   "outputs": [],
   "source": [
    "import numpy as np\n",
    "import scipy.stats as sps\n",
    "import pandas as pd\n",
    "import matplotlib.pyplot as plt\n",
    "import seaborn as sns\n",
    "sns.set_theme()\n",
    "from numpy.random import default_rng, SeedSequence\n",
    "\n",
    "sq = SeedSequence()\n",
    "rng = default_rng(sq)"
   ]
  },
  {
   "cell_type": "markdown",
   "metadata": {},
   "source": [
    "\n",
    "#### Context\n",
    "\n",
    "On considère $d \\ge 2$ actifs financiers dont la loi à l'instant $T > 0$ est modélisée par une loi log-normale c'est à dire \n",
    "$$\n",
    "    \\forall i \\in \\{1,\\dots,d\\}, \\quad\n",
    "    S^i_T = S^i_0 \\exp\\Bigl( \\bigl(r-\\frac{\\sigma_i^2}{2}\\bigr) T + \\sigma_i \\sqrt{T} \\tilde G_i \\Bigr)\n",
    "$$\n",
    "où le vecteur $(\\tilde G_1,\\dots, \\tilde G_d)$ est gaussien centré de matrice de covariance $\\Sigma$ et les constantes $r > 0$, $\\sigma_i > 0$ sont fixées. Il s'agit d'actifs financiers $(S^i_t)_{t \\in [0,T]}$, $1 \\le i \\le d$, modélisés par un processus de Black-Scholes multidimensionnel. On introduit la matrice $L$ triangulaire inférieure obtenue par la décomposition de Cholesky de la matrice $\\Sigma = L L^\\top$. \n",
    "\n",
    "A l'aide de cette matrice $L$, on définit la fonction $\\Phi:\\mathbf{R}^d \\to \\mathbf{R}^d$ telle que \n",
    "$$\n",
    "    (S^1_T, \\dots, S^d_T) = \\Phi(G_1, \\dots, G_d) \\quad \\text{ou encore} \\quad S^i_T = \\Phi_i(G_1, \\dots, G_d)\n",
    "$$\n",
    "où $(G_1, \\dots, G_d) \\sim \\mathcal{N}(0, I_d)$ (l'égalité précédente est à considérer en loi)."
   ]
  },
  {
   "cell_type": "code",
   "execution_count": 2,
   "metadata": {},
   "outputs": [],
   "source": [
    "d = 40\n",
    "T = 1\n",
    "r = 0.1\n",
    "S0 = np.full(d, 100)\n",
    "#sigma = np.arange(1,d+1)/(2*d)\n",
    "sigma = np.full(d, 0.3)\n",
    "rho = 0.3\n",
    "correl = np.full((d,d), rho) + (1-rho)*np.eye(d) # ou np.diag(np.full(d, 1-rho))\n",
    "K = 100"
   ]
  },
  {
   "cell_type": "code",
   "execution_count": 14,
   "metadata": {},
   "outputs": [],
   "source": [
    "params = {\n",
    "    \"S0\": S0[:, np.newaxis],\n",
    "    \"sigma\": sigma[:, np.newaxis],\n",
    "    \"mu\": r-0.5*sigma[:, np.newaxis]**2,\n",
    "    \"sq_correl\": np.linalg.cholesky(correl),  # c'est la matrice L tq L L^T = \\Sigma\n",
    "    \"maturity\": T,\n",
    "    \"strike\": K\n",
    "}"
   ]
  },
  {
   "cell_type": "code",
   "execution_count": 10,
   "metadata": {},
   "outputs": [],
   "source": [
    "def phi(indep_Gn, S0, mu, sigma, sq_correl, maturity, strike):\n",
    "    ST = S0 * np.exp(mu * maturity + sigma * np.sqrt(maturity) * sq_correl @ indep_Gn)\n",
    "    return np.maximum(np.mean(ST, axis=0)-strike, 0)"
   ]
  },
  {
   "cell_type": "markdown",
   "metadata": {},
   "source": [
    "## Approximation Monte Carlo\n",
    "---"
   ]
  },
  {
   "cell_type": "markdown",
   "metadata": {},
   "source": [
    "On s'intéresse au prix d'une option européenne (aussi appelé produit dérivé européen) sur le panier de ces $d$ actifs financiers, c'est à dire qu'on veut calculer \n",
    "$$\n",
    "    \\mathbf{E} \\bigl[ X \\bigr] %\\quad \\text{avec} \\quad g(x) = (x-K)_+ \\quad \\text{ou} \\quad g(x) = (K-x)_+ \n",
    "    \\quad \\text{avec} \\quad \n",
    "    X = \\biggl(\\frac{1}{d} \\sum_{i=1}^d S^i_T  - K\\biggr)_+\n",
    "$$"
   ]
  },
  {
   "cell_type": "code",
   "execution_count": 11,
   "metadata": {},
   "outputs": [],
   "source": [
    "def monte_carlo(sample, proba = 0.95):\n",
    "    mean = np.mean(sample)\n",
    "    var = np.var(sample, ddof=1)\n",
    "    alpha = 1 - proba \n",
    "    quantile = sps.norm.ppf(1 - alpha/2)  # fonction quantile \n",
    "    ci_size = quantile * np.sqrt(var / sample.size)\n",
    "    return (mean, var, mean - ci_size, mean + ci_size)"
   ]
  },
  {
   "cell_type": "code",
   "execution_count": 12,
   "metadata": {},
   "outputs": [],
   "source": [
    "n = int(1e5)\n",
    "Gn = rng.standard_normal((d, n)) # ici on a n scénarios possibles "
   ]
  },
  {
   "cell_type": "code",
   "execution_count": 13,
   "metadata": {},
   "outputs": [
    {
     "data": {
      "text/plain": [
       "array([[ 1.35661922, -0.00483474,  0.41542032, ...,  0.4485371 ,\n",
       "         0.39349825,  0.5839107 ],\n",
       "       [-0.80180087,  0.37646225,  1.91907942, ...,  0.75691574,\n",
       "        -0.35840467,  0.82403803],\n",
       "       [-0.07374601, -0.02886303, -0.8571943 , ...,  0.52175238,\n",
       "        -0.48205174, -0.84666063],\n",
       "       ...,\n",
       "       [-1.14260755, -1.07150485,  0.71279785, ...,  1.03702758,\n",
       "        -0.50838892, -2.79650834],\n",
       "       [ 2.05540091, -1.92704833,  0.11324247, ...,  0.11879079,\n",
       "         0.35972761,  0.3812108 ],\n",
       "       [-1.43919403,  1.77235905, -0.44631748, ...,  0.56447271,\n",
       "        -0.62969451, -0.15452338]])"
      ]
     },
     "execution_count": 13,
     "metadata": {},
     "output_type": "execute_result"
    }
   ],
   "source": [
    "Gn"
   ]
  },
  {
   "cell_type": "code",
   "execution_count": 15,
   "metadata": {},
   "outputs": [
    {
     "data": {
      "text/plain": [
       "(13.557911462244478,\n",
       " 233.28467219014496,\n",
       " 13.463246079885478,\n",
       " 13.652576844603479)"
      ]
     },
     "execution_count": 15,
     "metadata": {},
     "output_type": "execute_result"
    }
   ],
   "source": [
    "sample = phi(Gn,**params)\n",
    "monte_carlo(sample)"
   ]
  },
  {
   "cell_type": "markdown",
   "metadata": {},
   "source": [
    "On veut calculer le prix pour différentes valeurs du strike donc on enlève le champ `strike` du dictionnaire `param` et on fera varier ce paramètre."
   ]
  },
  {
   "cell_type": "code",
   "execution_count": 16,
   "metadata": {},
   "outputs": [],
   "source": [
    "Ks = [80, 90, 100, 110, 120]\n",
    "del params[\"strike\"]"
   ]
  },
  {
   "cell_type": "code",
   "execution_count": 17,
   "metadata": {},
   "outputs": [
    {
     "data": {
      "text/html": [
       "<div>\n",
       "<style scoped>\n",
       "    .dataframe tbody tr th:only-of-type {\n",
       "        vertical-align: middle;\n",
       "    }\n",
       "\n",
       "    .dataframe tbody tr th {\n",
       "        vertical-align: top;\n",
       "    }\n",
       "\n",
       "    .dataframe thead th {\n",
       "        text-align: right;\n",
       "    }\n",
       "</style>\n",
       "<table border=\"1\" class=\"dataframe\">\n",
       "  <thead>\n",
       "    <tr style=\"text-align: right;\">\n",
       "      <th></th>\n",
       "      <th>Mean</th>\n",
       "      <th>Var</th>\n",
       "      <th>Lower</th>\n",
       "      <th>Upper</th>\n",
       "    </tr>\n",
       "  </thead>\n",
       "  <tbody>\n",
       "    <tr>\n",
       "      <th>80</th>\n",
       "      <td>30.686955</td>\n",
       "      <td>341.955004</td>\n",
       "      <td>30.572342</td>\n",
       "      <td>30.801567</td>\n",
       "    </tr>\n",
       "    <tr>\n",
       "      <th>90</th>\n",
       "      <td>21.432957</td>\n",
       "      <td>304.678870</td>\n",
       "      <td>21.324772</td>\n",
       "      <td>21.541143</td>\n",
       "    </tr>\n",
       "    <tr>\n",
       "      <th>100</th>\n",
       "      <td>13.557911</td>\n",
       "      <td>233.284672</td>\n",
       "      <td>13.463246</td>\n",
       "      <td>13.652577</td>\n",
       "    </tr>\n",
       "    <tr>\n",
       "      <th>110</th>\n",
       "      <td>7.694649</td>\n",
       "      <td>148.995320</td>\n",
       "      <td>7.618994</td>\n",
       "      <td>7.770303</td>\n",
       "    </tr>\n",
       "    <tr>\n",
       "      <th>120</th>\n",
       "      <td>3.918453</td>\n",
       "      <td>79.929774</td>\n",
       "      <td>3.863042</td>\n",
       "      <td>3.973865</td>\n",
       "    </tr>\n",
       "  </tbody>\n",
       "</table>\n",
       "</div>"
      ],
      "text/plain": [
       "          Mean         Var      Lower      Upper\n",
       "80   30.686955  341.955004  30.572342  30.801567\n",
       "90   21.432957  304.678870  21.324772  21.541143\n",
       "100  13.557911  233.284672  13.463246  13.652577\n",
       "110   7.694649  148.995320   7.618994   7.770303\n",
       "120   3.918453   79.929774   3.863042   3.973865"
      ]
     },
     "execution_count": 17,
     "metadata": {},
     "output_type": "execute_result"
    }
   ],
   "source": [
    "result = [monte_carlo(phi(Gn, strike=K, **params)) for K in Ks]\n",
    "result_df = pd.DataFrame(result, \n",
    "                         columns=['Mean', 'Var', 'Lower', 'Upper'], index=Ks)\n",
    "result_df"
   ]
  },
  {
   "cell_type": "markdown",
   "metadata": {},
   "source": [
    "## Méthodes de Réduction de Variance"
   ]
  },
  {
   "cell_type": "markdown",
   "metadata": {},
   "source": [
    "## 1. Variables antithétiques"
   ]
  },
  {
   "cell_type": "markdown",
   "metadata": {},
   "source": [
    "Sur le même modèle que précédemment, on code une fonction `phi_antith` qui évalue \n",
    "$$\n",
    "    \\frac{1}{2} \\bigl( \\Phi(G_1, \\dots, G_d) + \\Phi(-G_1, \\dots, -G_d) \\bigr)\n",
    "$$\n",
    "et qu'on va ensuite  utiliser pour implémenter la méthode de Monte Carlo avec réduction de variance par variables antithétiques.\n"
   ]
  },
  {
   "cell_type": "code",
   "execution_count": 18,
   "metadata": {},
   "outputs": [],
   "source": [
    "def phi_antith(indep_Gn, **params):\n",
    "    return 0.5 * (phi(indep_Gn, **params) + phi(-indep_Gn, **params))"
   ]
  },
  {
   "cell_type": "code",
   "execution_count": 19,
   "metadata": {},
   "outputs": [
    {
     "data": {
      "text/plain": [
       "(13.553859482335218, 35.74831894503519, 13.516802000616085, 13.590916964054351)"
      ]
     },
     "execution_count": 19,
     "metadata": {},
     "output_type": "execute_result"
    }
   ],
   "source": [
    "sample = phi_antith(Gn, strike=100, **params)\n",
    "monte_carlo(sample)"
   ]
  },
  {
   "cell_type": "code",
   "execution_count": 20,
   "metadata": {},
   "outputs": [
    {
     "data": {
      "text/html": [
       "<div>\n",
       "<style scoped>\n",
       "    .dataframe tbody tr th:only-of-type {\n",
       "        vertical-align: middle;\n",
       "    }\n",
       "\n",
       "    .dataframe tbody tr th {\n",
       "        vertical-align: top;\n",
       "    }\n",
       "\n",
       "    .dataframe thead th {\n",
       "        text-align: right;\n",
       "    }\n",
       "</style>\n",
       "<table border=\"1\" class=\"dataframe\">\n",
       "  <thead>\n",
       "    <tr style=\"text-align: right;\">\n",
       "      <th></th>\n",
       "      <th>Mean</th>\n",
       "      <th>Var</th>\n",
       "      <th>Lower</th>\n",
       "      <th>Upper</th>\n",
       "    </tr>\n",
       "  </thead>\n",
       "  <tbody>\n",
       "    <tr>\n",
       "      <th>80</th>\n",
       "      <td>30.682161</td>\n",
       "      <td>9.198173</td>\n",
       "      <td>30.663363</td>\n",
       "      <td>30.700958</td>\n",
       "    </tr>\n",
       "    <tr>\n",
       "      <th>90</th>\n",
       "      <td>21.427281</td>\n",
       "      <td>19.042258</td>\n",
       "      <td>21.400235</td>\n",
       "      <td>21.454327</td>\n",
       "    </tr>\n",
       "    <tr>\n",
       "      <th>100</th>\n",
       "      <td>13.553859</td>\n",
       "      <td>35.748319</td>\n",
       "      <td>13.516802</td>\n",
       "      <td>13.590917</td>\n",
       "    </tr>\n",
       "    <tr>\n",
       "      <th>110</th>\n",
       "      <td>7.696622</td>\n",
       "      <td>45.076825</td>\n",
       "      <td>7.655009</td>\n",
       "      <td>7.738235</td>\n",
       "    </tr>\n",
       "    <tr>\n",
       "      <th>120</th>\n",
       "      <td>3.924981</td>\n",
       "      <td>32.406083</td>\n",
       "      <td>3.889698</td>\n",
       "      <td>3.960263</td>\n",
       "    </tr>\n",
       "  </tbody>\n",
       "</table>\n",
       "</div>"
      ],
      "text/plain": [
       "          Mean        Var      Lower      Upper\n",
       "80   30.682161   9.198173  30.663363  30.700958\n",
       "90   21.427281  19.042258  21.400235  21.454327\n",
       "100  13.553859  35.748319  13.516802  13.590917\n",
       "110   7.696622  45.076825   7.655009   7.738235\n",
       "120   3.924981  32.406083   3.889698   3.960263"
      ]
     },
     "execution_count": 20,
     "metadata": {},
     "output_type": "execute_result"
    }
   ],
   "source": [
    "Ks = [80, 90, 100, 110, 120]\n",
    "result_antith = [monte_carlo(phi_antith(Gn, strike=K, **params)) for K in Ks]\n",
    "result_antith_df = pd.DataFrame(result_antith, \n",
    "                                columns=['Mean', 'Var', 'Lower', 'Upper'], index=Ks)\n",
    "result_antith_df"
   ]
  },
  {
   "cell_type": "code",
   "execution_count": 21,
   "metadata": {},
   "outputs": [
    {
     "data": {
      "text/html": [
       "<div>\n",
       "<style scoped>\n",
       "    .dataframe tbody tr th:only-of-type {\n",
       "        vertical-align: middle;\n",
       "    }\n",
       "\n",
       "    .dataframe tbody tr th {\n",
       "        vertical-align: top;\n",
       "    }\n",
       "\n",
       "    .dataframe thead th {\n",
       "        text-align: right;\n",
       "    }\n",
       "</style>\n",
       "<table border=\"1\" class=\"dataframe\">\n",
       "  <thead>\n",
       "    <tr style=\"text-align: right;\">\n",
       "      <th></th>\n",
       "      <th>method</th>\n",
       "      <th>strike</th>\n",
       "      <th>ratio</th>\n",
       "    </tr>\n",
       "  </thead>\n",
       "  <tbody>\n",
       "    <tr>\n",
       "      <th>80</th>\n",
       "      <td>Antithetic</td>\n",
       "      <td>80</td>\n",
       "      <td>37.176406</td>\n",
       "    </tr>\n",
       "    <tr>\n",
       "      <th>90</th>\n",
       "      <td>Antithetic</td>\n",
       "      <td>90</td>\n",
       "      <td>16.000144</td>\n",
       "    </tr>\n",
       "    <tr>\n",
       "      <th>100</th>\n",
       "      <td>Antithetic</td>\n",
       "      <td>100</td>\n",
       "      <td>6.525752</td>\n",
       "    </tr>\n",
       "    <tr>\n",
       "      <th>110</th>\n",
       "      <td>Antithetic</td>\n",
       "      <td>110</td>\n",
       "      <td>3.305364</td>\n",
       "    </tr>\n",
       "    <tr>\n",
       "      <th>120</th>\n",
       "      <td>Antithetic</td>\n",
       "      <td>120</td>\n",
       "      <td>2.466505</td>\n",
       "    </tr>\n",
       "  </tbody>\n",
       "</table>\n",
       "</div>"
      ],
      "text/plain": [
       "         method  strike      ratio\n",
       "80   Antithetic      80  37.176406\n",
       "90   Antithetic      90  16.000144\n",
       "100  Antithetic     100   6.525752\n",
       "110  Antithetic     110   3.305364\n",
       "120  Antithetic     120   2.466505"
      ]
     },
     "execution_count": 21,
     "metadata": {},
     "output_type": "execute_result"
    }
   ],
   "source": [
    "ratio_var = pd.DataFrame({\n",
    "    \"method\": \"Antithetic\",\n",
    "    \"strike\": Ks, \n",
    "    \"ratio\": result_df['Var'] / result_antith_df['Var'], \n",
    "})\n",
    "ratio_var"
   ]
  },
  {
   "cell_type": "code",
   "execution_count": 22,
   "metadata": {},
   "outputs": [
    {
     "data": {
      "text/plain": [
       "<Axes: xlabel='strike', ylabel='ratio'>"
      ]
     },
     "execution_count": 22,
     "metadata": {},
     "output_type": "execute_result"
    },
    {
     "data": {
      "image/png": "[encoded data removed]",
      "text/plain": [
       "<Figure size 640x480 with 1 Axes>"
      ]
     },
     "metadata": {},
     "output_type": "display_data"
    }
   ],
   "source": [
    "sns.barplot(data=ratio_var, x=\"strike\", y=\"ratio\", hue=\"method\")"
   ]
  },
  {
   "cell_type": "markdown",
   "metadata": {},
   "source": [
    "## 2. Variable de contrôle"
   ]
  },
  {
   "cell_type": "markdown",
   "metadata": {},
   "source": [
    "On rappelle que le prix d'un Call dans un modèle de Black-Scholes en dimension 1, le prix est donnée par une formule fermée. Pour une option Basket (en dimension $d \\ge 2$) on approche le prix par Monte Carlo mais on peut utiliser des approximations pour trouver un produit unidimensionnel proche du produit Basket. Ces approximations servent de variables de contrôles: **on ne rajoute pas une erreur, on retire de la variance**... \n"
   ]
  },
  {
   "cell_type": "code",
   "execution_count": 23,
   "metadata": {},
   "outputs": [],
   "source": [
    "def d1(spot, t, r, sigma, strike):\n",
    "    return (np.log(spot / strike) + t * (r + 0.5*sigma**2)) / (sigma * np.sqrt(t))"
   ]
  },
  {
   "cell_type": "code",
   "execution_count": 24,
   "metadata": {},
   "outputs": [],
   "source": [
    "def d2(spot, t, r, sigma, strike):\n",
    "    return d1(spot, t, r, sigma, strike) - sigma * np.sqrt(t)"
   ]
  },
  {
   "cell_type": "code",
   "execution_count": 25,
   "metadata": {},
   "outputs": [],
   "source": [
    "def price_call_BS(spot, t, r, sigma, strike):\n",
    "    d1_ = d1(spot, t, r, sigma, strike)\n",
    "    d2_ = d2(spot, t, r, sigma, strike)\n",
    "    return spot * sps.norm.cdf(d1_) - strike * np.exp(-r * t) * sps.norm.cdf(d2_)"
   ]
  },
  {
   "cell_type": "markdown",
   "metadata": {},
   "source": [
    "On rappelle que, en posant $\\mu_i = r - \\frac{1}{2}\\sigma_i^2$,\n",
    "$$\n",
    "    X = \\biggl(\\frac{1}{d} \\sum_{i=1}^d S^i_0 e^{\\mu_i T + \\sigma_i \\sqrt{T} \\tilde G_i}  - K\\biggr)_+\n",
    "$$\n",
    "et en introduisant $a^i_0 = \\frac{S^i_0}{\\sum_{j=1}^d S^j_0}$ (t.q. $\\sum a^i_0 = 1$) et $\\bar S_0 = \\frac{1}{d} \\sum_{i=1}^d S^i_0$ on a \n",
    "$$\n",
    "    X = \\biggl(\\bar S_0 \\sum_{i=1}^d a^i_0 e^{\\mu_i T + \\sigma_i \\sqrt{T} \\tilde G_i}  - K\\biggr)_+.\n",
    "$$\n",
    "La variable de contrôle proposée est obtenue en échangeant l'exponentielle et la moyenne pondérée par les poids $\\big(a^i_0\\big)_{i=1,\\dots,d}$:\n",
    "$$\n",
    "    Y = \\bigl(\\bar S_0 e^Z  - K\\bigr)_+\n",
    "    \\quad \\text{avec} \\quad \n",
    "    Z = \\sum_{i=1}^d a^i_0 \\big(\\mu_i T + \\sigma_i \\sqrt{T} \\tilde G_i\\big) \n",
    "$$\n",
    "La variable aléatoire $Z$ suit une loi gaussienne $Z \\sim \\mathcal{N}(m T, s^2 T)$ avec\n",
    "$$\n",
    "    m = \\sum_{i=1}^d a^i_0 \\mu_i\n",
    "    \\quad \\text{et} \\quad\n",
    "    s^2 = \\sum_{i=1}^d \\Big( \\sum_{j=1}^d a^i_0 \\sigma_i L_{ij} \\Big)^2. \n",
    "$$\n",
    "Ainsi l'espérance de la variable de contrôle $Y$ est connue par la formule de Black-Scholes, car elle correspond au prix d'un call de strike $K$ d'un actif Black-Scholes de dimension 1, de valeur initiale $\\bar S_0$, de taux $\\rho = m+\\frac{1}{2} s^2$ et de volatilité $s$ (à un facteur d'actualisation près... attention à ça). On a donc \n",
    "$$\n",
    "    e^{-\\rho T} \\mathbf{E} \\big[ Y \\big] = P_{\\text{BS}}\\big(\\bar S_0, \\rho, s, T, K\\big) \n",
    "$$"
   ]
  },
  {
   "cell_type": "markdown",
   "metadata": {},
   "source": [
    "On vérifie d'abord les formules: la vraie espérance de $Y$ calculée par formule fermée doit être dans l'intervale de confiance d'un estimateur Monte Carlo basé sur un grand échantillon de $(Y_1,\\dots,Y_n)$."
   ]
  },
  {
   "cell_type": "code",
   "execution_count": 27,
   "metadata": {},
   "outputs": [],
   "source": [
    "barS0 = params[\"S0\"].mean()\n",
    "a = params[\"S0\"] / params[\"S0\"].sum()\n",
    "m = (a * params[\"mu\"]).sum()\n",
    "s2 = (((a * params[\"sigma\"]).T @ params[\"sq_correl\"])**2).sum()\n",
    "rho = m + 0.5*s2"
   ]
  },
  {
   "cell_type": "code",
   "execution_count": 28,
   "metadata": {},
   "outputs": [
    {
     "name": "stdout",
     "output_type": "stream",
     "text": [
      "True value: 11.140982930779245\n"
     ]
    }
   ],
   "source": [
    "# calcul par formule fermée\n",
    "Y_mean = np.exp(rho*T) * price_call_BS(barS0, T, rho, np.sqrt(s2), strike=K)\n",
    "print(\"True value:\", Y_mean)"
   ]
  },
  {
   "cell_type": "code",
   "execution_count": 29,
   "metadata": {},
   "outputs": [
    {
     "data": {
      "text/plain": [
       "(11.147472359836774, 194.33850825106563, 11.061069618171848, 11.2338751015017)"
      ]
     },
     "execution_count": 29,
     "metadata": {},
     "output_type": "execute_result"
    }
   ],
   "source": [
    "# calcul par Monte Carlo\n",
    "Z = np.sum(a * (m*T + params[\"sigma\"]*np.sqrt(T)*params[\"sq_correl\"] @ Gn), axis = 0)\n",
    "Y = np.maximum(S0.mean() * np.exp(Z) - K, 0) \n",
    "monte_carlo(Y)"
   ]
  },
  {
   "cell_type": "markdown",
   "metadata": {},
   "source": [
    "On regroupe tout dans une fonction $\\Psi$ dont l'appel est similaire à $\\Phi$ et qui renvoie des réalisations de $Y - \\mathbf{E}[Y]$. Il est souvent plus commode d'utiliser des variables de contrôle centrées."
   ]
  },
  {
   "cell_type": "code",
   "execution_count": 30,
   "metadata": {},
   "outputs": [],
   "source": [
    "def psi(indep_Gn, S0, mu, sigma, sq_correl, maturity, strike):\n",
    "    weight = S0 / S0.sum()\n",
    "    m = (weight * mu).sum()\n",
    "    s2 = (((weight * sigma).T @ sq_correl)**2).sum()\n",
    "    rho = m + 0.5*s2\n",
    "\n",
    "    Z = np.sum(weight * (m*maturity + sigma*np.sqrt(maturity)*sq_correl @ indep_Gn), axis = 0)\n",
    "    Y = np.maximum(S0.mean() * np.exp(Z) - strike, 0) \n",
    "    Y_mean = np.exp(rho*T) * price_call_BS(S0.mean(), maturity, rho, np.sqrt(s2), strike=strike) \n",
    "    return Y - Y_mean"
   ]
  },
  {
   "cell_type": "code",
   "execution_count": 31,
   "metadata": {},
   "outputs": [
    {
     "data": {
      "text/plain": [
       "(13.551422033186949,\n",
       " 3.4586614501445783,\n",
       " 13.539895409424783,\n",
       " 13.562948656949114)"
      ]
     },
     "execution_count": 31,
     "metadata": {},
     "output_type": "execute_result"
    }
   ],
   "source": [
    "# exemple d'un appel de Monte Carlo avec variable de contôle $Y = \\Psi(G_1,\\dots, G_n)$\n",
    "sample = phi(Gn, **params, strike=100) - psi(Gn, **params, strike=100)\n",
    "monte_carlo(sample)"
   ]
  },
  {
   "cell_type": "code",
   "execution_count": 32,
   "metadata": {},
   "outputs": [
    {
     "data": {
      "text/html": [
       "<div>\n",
       "<style scoped>\n",
       "    .dataframe tbody tr th:only-of-type {\n",
       "        vertical-align: middle;\n",
       "    }\n",
       "\n",
       "    .dataframe tbody tr th {\n",
       "        vertical-align: top;\n",
       "    }\n",
       "\n",
       "    .dataframe thead th {\n",
       "        text-align: right;\n",
       "    }\n",
       "</style>\n",
       "<table border=\"1\" class=\"dataframe\">\n",
       "  <thead>\n",
       "    <tr style=\"text-align: right;\">\n",
       "      <th></th>\n",
       "      <th>Mean</th>\n",
       "      <th>Var</th>\n",
       "      <th>Lower</th>\n",
       "      <th>Upper</th>\n",
       "    </tr>\n",
       "  </thead>\n",
       "  <tbody>\n",
       "    <tr>\n",
       "      <th>80</th>\n",
       "      <td>30.684226</td>\n",
       "      <td>1.313826</td>\n",
       "      <td>30.677122</td>\n",
       "      <td>30.691330</td>\n",
       "    </tr>\n",
       "    <tr>\n",
       "      <th>90</th>\n",
       "      <td>21.429241</td>\n",
       "      <td>2.254147</td>\n",
       "      <td>21.419935</td>\n",
       "      <td>21.438546</td>\n",
       "    </tr>\n",
       "    <tr>\n",
       "      <th>100</th>\n",
       "      <td>13.551422</td>\n",
       "      <td>3.458661</td>\n",
       "      <td>13.539895</td>\n",
       "      <td>13.562949</td>\n",
       "    </tr>\n",
       "    <tr>\n",
       "      <th>110</th>\n",
       "      <td>7.691453</td>\n",
       "      <td>3.928923</td>\n",
       "      <td>7.679168</td>\n",
       "      <td>7.703739</td>\n",
       "    </tr>\n",
       "    <tr>\n",
       "      <th>120</th>\n",
       "      <td>3.928298</td>\n",
       "      <td>3.301745</td>\n",
       "      <td>3.917036</td>\n",
       "      <td>3.939561</td>\n",
       "    </tr>\n",
       "  </tbody>\n",
       "</table>\n",
       "</div>"
      ],
      "text/plain": [
       "          Mean       Var      Lower      Upper\n",
       "80   30.684226  1.313826  30.677122  30.691330\n",
       "90   21.429241  2.254147  21.419935  21.438546\n",
       "100  13.551422  3.458661  13.539895  13.562949\n",
       "110   7.691453  3.928923   7.679168   7.703739\n",
       "120   3.928298  3.301745   3.917036   3.939561"
      ]
     },
     "execution_count": 32,
     "metadata": {},
     "output_type": "execute_result"
    }
   ],
   "source": [
    "Ks = [80, 90, 100, 110, 120]\n",
    "sample = lambda K: phi(Gn, strike=K, **params) - psi(Gn, strike=K, **params) \n",
    "result_cv = [monte_carlo(sample(K)) for K in Ks]\n",
    "result_cv_df = pd.DataFrame(result_cv, \n",
    "                            columns=['Mean', 'Var', 'Lower', 'Upper'], index=Ks)\n",
    "result_cv_df"
   ]
  },
  {
   "cell_type": "code",
   "execution_count": 33,
   "metadata": {},
   "outputs": [],
   "source": [
    "def mk_ratio_df(method, ratio): \n",
    "    return pd.DataFrame({\n",
    "        \"method\": method,\n",
    "        \"strike\": Ks, \n",
    "        \"ratio\": ratio, \n",
    "    }, index=None)"
   ]
  },
  {
   "cell_type": "code",
   "execution_count": 34,
   "metadata": {},
   "outputs": [
    {
     "data": {
      "text/html": [
       "<div>\n",
       "<style scoped>\n",
       "    .dataframe tbody tr th:only-of-type {\n",
       "        vertical-align: middle;\n",
       "    }\n",
       "\n",
       "    .dataframe tbody tr th {\n",
       "        vertical-align: top;\n",
       "    }\n",
       "\n",
       "    .dataframe thead th {\n",
       "        text-align: right;\n",
       "    }\n",
       "</style>\n",
       "<table border=\"1\" class=\"dataframe\">\n",
       "  <thead>\n",
       "    <tr style=\"text-align: right;\">\n",
       "      <th></th>\n",
       "      <th>method</th>\n",
       "      <th>strike</th>\n",
       "      <th>ratio</th>\n",
       "    </tr>\n",
       "  </thead>\n",
       "  <tbody>\n",
       "    <tr>\n",
       "      <th>0</th>\n",
       "      <td>Antithetic</td>\n",
       "      <td>80</td>\n",
       "      <td>37.176406</td>\n",
       "    </tr>\n",
       "    <tr>\n",
       "      <th>1</th>\n",
       "      <td>Antithetic</td>\n",
       "      <td>90</td>\n",
       "      <td>16.000144</td>\n",
       "    </tr>\n",
       "    <tr>\n",
       "      <th>2</th>\n",
       "      <td>Antithetic</td>\n",
       "      <td>100</td>\n",
       "      <td>6.525752</td>\n",
       "    </tr>\n",
       "    <tr>\n",
       "      <th>3</th>\n",
       "      <td>Antithetic</td>\n",
       "      <td>110</td>\n",
       "      <td>3.305364</td>\n",
       "    </tr>\n",
       "    <tr>\n",
       "      <th>4</th>\n",
       "      <td>Antithetic</td>\n",
       "      <td>120</td>\n",
       "      <td>2.466505</td>\n",
       "    </tr>\n",
       "    <tr>\n",
       "      <th>5</th>\n",
       "      <td>Control Variate</td>\n",
       "      <td>80</td>\n",
       "      <td>260.274257</td>\n",
       "    </tr>\n",
       "    <tr>\n",
       "      <th>6</th>\n",
       "      <td>Control Variate</td>\n",
       "      <td>90</td>\n",
       "      <td>135.163733</td>\n",
       "    </tr>\n",
       "    <tr>\n",
       "      <th>7</th>\n",
       "      <td>Control Variate</td>\n",
       "      <td>100</td>\n",
       "      <td>67.449409</td>\n",
       "    </tr>\n",
       "    <tr>\n",
       "      <th>8</th>\n",
       "      <td>Control Variate</td>\n",
       "      <td>110</td>\n",
       "      <td>37.922685</td>\n",
       "    </tr>\n",
       "    <tr>\n",
       "      <th>9</th>\n",
       "      <td>Control Variate</td>\n",
       "      <td>120</td>\n",
       "      <td>24.208342</td>\n",
       "    </tr>\n",
       "  </tbody>\n",
       "</table>\n",
       "</div>"
      ],
      "text/plain": [
       "            method  strike       ratio\n",
       "0       Antithetic      80   37.176406\n",
       "1       Antithetic      90   16.000144\n",
       "2       Antithetic     100    6.525752\n",
       "3       Antithetic     110    3.305364\n",
       "4       Antithetic     120    2.466505\n",
       "5  Control Variate      80  260.274257\n",
       "6  Control Variate      90  135.163733\n",
       "7  Control Variate     100   67.449409\n",
       "8  Control Variate     110   37.922685\n",
       "9  Control Variate     120   24.208342"
      ]
     },
     "execution_count": 34,
     "metadata": {},
     "output_type": "execute_result"
    }
   ],
   "source": [
    "ratio_var = pd.concat([\n",
    "    mk_ratio_df(\"Antithetic\", result_df['Var'] / result_antith_df['Var']),\n",
    "    mk_ratio_df(\"Control Variate\", result_df['Var'] / result_cv_df['Var']),\n",
    "], ignore_index=True)\n",
    "ratio_var"
   ]
  },
  {
   "cell_type": "code",
   "execution_count": 35,
   "metadata": {},
   "outputs": [
    {
     "data": {
      "text/plain": [
       "<Axes: xlabel='strike', ylabel='ratio'>"
      ]
     },
     "execution_count": 35,
     "metadata": {},
     "output_type": "execute_result"
    },
    {
     "data": {
      "image/png": "[encoded data removed]",
      "text/plain": [
       "<Figure size 640x480 with 1 Axes>"
      ]
     },
     "metadata": {},
     "output_type": "display_data"
    }
   ],
   "source": [
    "sns.barplot(data=ratio_var, x=\"strike\", y=\"ratio\", hue=\"method\")"
   ]
  },
  {
   "cell_type": "markdown",
   "metadata": {},
   "source": [
    "### Variable de contrôle optimale \n",
    "\n",
    "Si $Y$ est une variable de contrôle "
   ]
  },
  {
   "cell_type": "code",
   "execution_count": 36,
   "metadata": {},
   "outputs": [
    {
     "data": {
      "text/html": [
       "<div>\n",
       "<style scoped>\n",
       "    .dataframe tbody tr th:only-of-type {\n",
       "        vertical-align: middle;\n",
       "    }\n",
       "\n",
       "    .dataframe tbody tr th {\n",
       "        vertical-align: top;\n",
       "    }\n",
       "\n",
       "    .dataframe thead th {\n",
       "        text-align: right;\n",
       "    }\n",
       "</style>\n",
       "<table border=\"1\" class=\"dataframe\">\n",
       "  <thead>\n",
       "    <tr style=\"text-align: right;\">\n",
       "      <th></th>\n",
       "      <th>Mean</th>\n",
       "      <th>Var</th>\n",
       "      <th>Lower</th>\n",
       "      <th>Upper</th>\n",
       "    </tr>\n",
       "  </thead>\n",
       "  <tbody>\n",
       "    <tr>\n",
       "      <th>80</th>\n",
       "      <td>30.684116</td>\n",
       "      <td>0.811729</td>\n",
       "      <td>30.678532</td>\n",
       "      <td>30.689701</td>\n",
       "    </tr>\n",
       "    <tr>\n",
       "      <th>90</th>\n",
       "      <td>21.429018</td>\n",
       "      <td>1.292989</td>\n",
       "      <td>21.421970</td>\n",
       "      <td>21.436065</td>\n",
       "    </tr>\n",
       "    <tr>\n",
       "      <th>100</th>\n",
       "      <td>13.550827</td>\n",
       "      <td>1.838638</td>\n",
       "      <td>13.542422</td>\n",
       "      <td>13.559231</td>\n",
       "    </tr>\n",
       "    <tr>\n",
       "      <th>110</th>\n",
       "      <td>7.691036</td>\n",
       "      <td>1.969847</td>\n",
       "      <td>7.682337</td>\n",
       "      <td>7.699735</td>\n",
       "    </tr>\n",
       "    <tr>\n",
       "      <th>120</th>\n",
       "      <td>3.929978</td>\n",
       "      <td>1.627964</td>\n",
       "      <td>3.922070</td>\n",
       "      <td>3.937886</td>\n",
       "    </tr>\n",
       "  </tbody>\n",
       "</table>\n",
       "</div>"
      ],
      "text/plain": [
       "          Mean       Var      Lower      Upper\n",
       "80   30.684116  0.811729  30.678532  30.689701\n",
       "90   21.429018  1.292989  21.421970  21.436065\n",
       "100  13.550827  1.838638  13.542422  13.559231\n",
       "110   7.691036  1.969847   7.682337   7.699735\n",
       "120   3.929978  1.627964   3.922070   3.937886"
      ]
     },
     "execution_count": 36,
     "metadata": {},
     "output_type": "execute_result"
    }
   ],
   "source": [
    "Ks = [80, 90, 100, 110, 120]\n",
    "\n",
    "def sample(K):\n",
    "    Xn = phi(Gn, **params, strike=K)\n",
    "    Yn = psi(Gn, **params, strike=K)\n",
    "    lambd = (Xn*Yn).mean() / (Yn*Yn).mean()\n",
    "    return Xn - lambd * Yn\n",
    "result_cv2 = [monte_carlo(sample(K)) for K in Ks]\n",
    "result_cv2_df = pd.DataFrame(result_cv2, \n",
    "                            columns=['Mean', 'Var', 'Lower', 'Upper'], index=Ks)\n",
    "result_cv2_df"
   ]
  },
  {
   "cell_type": "code",
   "execution_count": 37,
   "metadata": {},
   "outputs": [
    {
     "data": {
      "text/html": [
       "<div>\n",
       "<style scoped>\n",
       "    .dataframe tbody tr th:only-of-type {\n",
       "        vertical-align: middle;\n",
       "    }\n",
       "\n",
       "    .dataframe tbody tr th {\n",
       "        vertical-align: top;\n",
       "    }\n",
       "\n",
       "    .dataframe thead th {\n",
       "        text-align: right;\n",
       "    }\n",
       "</style>\n",
       "<table border=\"1\" class=\"dataframe\">\n",
       "  <thead>\n",
       "    <tr style=\"text-align: right;\">\n",
       "      <th></th>\n",
       "      <th>method</th>\n",
       "      <th>strike</th>\n",
       "      <th>ratio</th>\n",
       "    </tr>\n",
       "  </thead>\n",
       "  <tbody>\n",
       "    <tr>\n",
       "      <th>0</th>\n",
       "      <td>Antithetic</td>\n",
       "      <td>80</td>\n",
       "      <td>37.176406</td>\n",
       "    </tr>\n",
       "    <tr>\n",
       "      <th>1</th>\n",
       "      <td>Antithetic</td>\n",
       "      <td>90</td>\n",
       "      <td>16.000144</td>\n",
       "    </tr>\n",
       "    <tr>\n",
       "      <th>2</th>\n",
       "      <td>Antithetic</td>\n",
       "      <td>100</td>\n",
       "      <td>6.525752</td>\n",
       "    </tr>\n",
       "    <tr>\n",
       "      <th>3</th>\n",
       "      <td>Antithetic</td>\n",
       "      <td>110</td>\n",
       "      <td>3.305364</td>\n",
       "    </tr>\n",
       "    <tr>\n",
       "      <th>4</th>\n",
       "      <td>Antithetic</td>\n",
       "      <td>120</td>\n",
       "      <td>2.466505</td>\n",
       "    </tr>\n",
       "    <tr>\n",
       "      <th>5</th>\n",
       "      <td>Control Variate</td>\n",
       "      <td>80</td>\n",
       "      <td>260.274257</td>\n",
       "    </tr>\n",
       "    <tr>\n",
       "      <th>6</th>\n",
       "      <td>Control Variate</td>\n",
       "      <td>90</td>\n",
       "      <td>135.163733</td>\n",
       "    </tr>\n",
       "    <tr>\n",
       "      <th>7</th>\n",
       "      <td>Control Variate</td>\n",
       "      <td>100</td>\n",
       "      <td>67.449409</td>\n",
       "    </tr>\n",
       "    <tr>\n",
       "      <th>8</th>\n",
       "      <td>Control Variate</td>\n",
       "      <td>110</td>\n",
       "      <td>37.922685</td>\n",
       "    </tr>\n",
       "    <tr>\n",
       "      <th>9</th>\n",
       "      <td>Control Variate</td>\n",
       "      <td>120</td>\n",
       "      <td>24.208342</td>\n",
       "    </tr>\n",
       "    <tr>\n",
       "      <th>10</th>\n",
       "      <td>Control Variate adapt</td>\n",
       "      <td>80</td>\n",
       "      <td>421.267319</td>\n",
       "    </tr>\n",
       "    <tr>\n",
       "      <th>11</th>\n",
       "      <td>Control Variate adapt</td>\n",
       "      <td>90</td>\n",
       "      <td>235.639166</td>\n",
       "    </tr>\n",
       "    <tr>\n",
       "      <th>12</th>\n",
       "      <td>Control Variate adapt</td>\n",
       "      <td>100</td>\n",
       "      <td>126.879078</td>\n",
       "    </tr>\n",
       "    <tr>\n",
       "      <th>13</th>\n",
       "      <td>Control Variate adapt</td>\n",
       "      <td>110</td>\n",
       "      <td>75.638007</td>\n",
       "    </tr>\n",
       "    <tr>\n",
       "      <th>14</th>\n",
       "      <td>Control Variate adapt</td>\n",
       "      <td>120</td>\n",
       "      <td>49.097995</td>\n",
       "    </tr>\n",
       "  </tbody>\n",
       "</table>\n",
       "</div>"
      ],
      "text/plain": [
       "                   method  strike       ratio\n",
       "0              Antithetic      80   37.176406\n",
       "1              Antithetic      90   16.000144\n",
       "2              Antithetic     100    6.525752\n",
       "3              Antithetic     110    3.305364\n",
       "4              Antithetic     120    2.466505\n",
       "5         Control Variate      80  260.274257\n",
       "6         Control Variate      90  135.163733\n",
       "7         Control Variate     100   67.449409\n",
       "8         Control Variate     110   37.922685\n",
       "9         Control Variate     120   24.208342\n",
       "10  Control Variate adapt      80  421.267319\n",
       "11  Control Variate adapt      90  235.639166\n",
       "12  Control Variate adapt     100  126.879078\n",
       "13  Control Variate adapt     110   75.638007\n",
       "14  Control Variate adapt     120   49.097995"
      ]
     },
     "execution_count": 37,
     "metadata": {},
     "output_type": "execute_result"
    }
   ],
   "source": [
    "ratio_var = pd.concat([\n",
    "    mk_ratio_df(\"Antithetic\", result_df['Var'] / result_antith_df['Var']),\n",
    "    mk_ratio_df(\"Control Variate\", result_df['Var'] / result_cv_df['Var']),\n",
    "    mk_ratio_df(\"Control Variate adapt\", result_df['Var'] / result_cv2_df['Var']),\n",
    "], ignore_index=True)\n",
    "ratio_var"
   ]
  },
  {
   "cell_type": "code",
   "execution_count": 38,
   "metadata": {},
   "outputs": [
    {
     "data": {
      "text/plain": [
       "<Axes: xlabel='strike', ylabel='ratio'>"
      ]
     },
     "execution_count": 38,
     "metadata": {},
     "output_type": "execute_result"
    },
    {
     "data": {
      "image/png": "[encoded data removed]",
      "text/plain": [
       "<Figure size 640x480 with 1 Axes>"
      ]
     },
     "metadata": {},
     "output_type": "display_data"
    }
   ],
   "source": [
    "sns.barplot(data=ratio_var, x=\"strike\", y=\"ratio\", hue=\"method\")"
   ]
  },
  {
   "cell_type": "markdown",
   "metadata": {},
   "source": [
    "## Combinaison des 2 méthodes précédents"
   ]
  },
  {
   "cell_type": "code",
   "execution_count": 39,
   "metadata": {},
   "outputs": [
    {
     "data": {
      "text/html": [
       "<div>\n",
       "<style scoped>\n",
       "    .dataframe tbody tr th:only-of-type {\n",
       "        vertical-align: middle;\n",
       "    }\n",
       "\n",
       "    .dataframe tbody tr th {\n",
       "        vertical-align: top;\n",
       "    }\n",
       "\n",
       "    .dataframe thead th {\n",
       "        text-align: right;\n",
       "    }\n",
       "</style>\n",
       "<table border=\"1\" class=\"dataframe\">\n",
       "  <thead>\n",
       "    <tr style=\"text-align: right;\">\n",
       "      <th></th>\n",
       "      <th>Mean</th>\n",
       "      <th>Var</th>\n",
       "      <th>Lower</th>\n",
       "      <th>Upper</th>\n",
       "    </tr>\n",
       "  </thead>\n",
       "  <tbody>\n",
       "    <tr>\n",
       "      <th>80</th>\n",
       "      <td>30.685608</td>\n",
       "      <td>0.690063</td>\n",
       "      <td>30.680459</td>\n",
       "      <td>30.690757</td>\n",
       "    </tr>\n",
       "    <tr>\n",
       "      <th>90</th>\n",
       "      <td>21.430602</td>\n",
       "      <td>1.028100</td>\n",
       "      <td>21.424317</td>\n",
       "      <td>21.436886</td>\n",
       "    </tr>\n",
       "    <tr>\n",
       "      <th>100</th>\n",
       "      <td>13.550893</td>\n",
       "      <td>1.293445</td>\n",
       "      <td>13.543844</td>\n",
       "      <td>13.557942</td>\n",
       "    </tr>\n",
       "    <tr>\n",
       "      <th>110</th>\n",
       "      <td>7.692724</td>\n",
       "      <td>0.564475</td>\n",
       "      <td>7.688067</td>\n",
       "      <td>7.697380</td>\n",
       "    </tr>\n",
       "    <tr>\n",
       "      <th>120</th>\n",
       "      <td>3.929477</td>\n",
       "      <td>0.661125</td>\n",
       "      <td>3.924437</td>\n",
       "      <td>3.934516</td>\n",
       "    </tr>\n",
       "  </tbody>\n",
       "</table>\n",
       "</div>"
      ],
      "text/plain": [
       "          Mean       Var      Lower      Upper\n",
       "80   30.685608  0.690063  30.680459  30.690757\n",
       "90   21.430602  1.028100  21.424317  21.436886\n",
       "100  13.550893  1.293445  13.543844  13.557942\n",
       "110   7.692724  0.564475   7.688067   7.697380\n",
       "120   3.929477  0.661125   3.924437   3.934516"
      ]
     },
     "execution_count": 39,
     "metadata": {},
     "output_type": "execute_result"
    }
   ],
   "source": [
    "Ks = [80, 90, 100, 110, 120]\n",
    "def sample(K):\n",
    "    Xn = phi(Gn, **params, strike=K)\n",
    "    Yn = psi(Gn, **params, strike=K)\n",
    "    lambd = (Xn*Yn).mean() / (Yn*Yn).mean()\n",
    "    return 0.5*((Xn - lambd * Yn) \\\n",
    "                + (phi(-Gn, strike=K, **params) - lambd * psi(-Gn, strike=K, **params)))\n",
    "result_acv = [monte_carlo(sample(K)) for K in Ks]\n",
    "result_acv_df = pd.DataFrame(result_acv, \n",
    "                            columns=['Mean', 'Var', 'Lower', 'Upper'], index=Ks)\n",
    "result_acv_df"
   ]
  },
  {
   "cell_type": "code",
   "execution_count": 40,
   "metadata": {},
   "outputs": [
    {
     "data": {
      "text/plain": [
       "<Axes: xlabel='strike', ylabel='ratio'>"
      ]
     },
     "execution_count": 40,
     "metadata": {},
     "output_type": "execute_result"
    },
    {
     "data": {
      "image/png": "[encoded data removed]",
      "text/plain": [
       "<Figure size 640x480 with 1 Axes>"
      ]
     },
     "metadata": {},
     "output_type": "display_data"
    }
   ],
   "source": [
    "ratio_var = pd.concat([\n",
    "    mk_ratio_df(\"Antithetic\", result_df['Var'] / result_antith_df['Var']),\n",
    "    mk_ratio_df(\"Control Variate\", result_df['Var'] / result_cv_df['Var']),\n",
    "    mk_ratio_df(\"Control Variate adapt\", result_df['Var'] / result_cv2_df['Var']),\n",
    "    mk_ratio_df(\"Antithetic + Control Variate\", result_df['Var'] / result_acv_df['Var']),\n",
    "], ignore_index=True)\n",
    "sns.barplot(data=ratio_var, x=\"strike\", y=\"ratio\", hue=\"method\")"
   ]
  },
  {
   "cell_type": "markdown",
   "metadata": {},
   "source": [
    "## Etude numérique"
   ]
  },
  {
   "cell_type": "markdown",
   "metadata": {},
   "source": [
    "Comme tout notre code fonctionne (ou semble fonctionner) pour un jeu de paramètres, commençons maintenant  à faire une vraie étude numérique en faisant varier les paramètres. \n",
    "\n",
    "Par exemple nous allons   relancer le notebook avec une autre corrélation. \n",
    "- Que donnent les ratios de variance avec $\\rho = 0$ ? $\\rho = 0.5$ ? Comment interpréter ces résultats ?\n",
    "- De même, si on ne prend pas des volatilités $\\sigma_i$ toutes identiques ? \n",
    "- Dépendance en la dimension $d$ ? \n",
    "\n",
    "Pour répondre à ces questions, on reprend le code du notebook et on code une fonction qui renvoie un `DataFrame` contenant tous les résultats pour chaque valeur de paramètre: **à faire**."
   ]
  },
  {
   "cell_type": "markdown",
   "metadata": {},
   "source": [
    "###  1. Changement de corrélation"
   ]
  },
  {
   "cell_type": "code",
   "execution_count": 49,
   "metadata": {},
   "outputs": [],
   "source": [
    "\n",
    "# Function to run the simulation with different parameters\n",
    "def run_simulation(d, rho, sigma_values, T=1, r=0.1, S0_value=100, K=100, n=int(1e5)):\n",
    "    S0 = np.full(d, S0_value)\n",
    "    sigma = sigma_values if isinstance(sigma_values, np.ndarray) else np.full(d, sigma_values)\n",
    "    correl = np.full((d,d), rho) + (1-rho)*np.eye(d)\n",
    "    params = {\n",
    "        \"S0\": S0[:, np.newaxis],\n",
    "        \"sigma\": sigma[:, np.newaxis],\n",
    "        \"mu\": r - 0.5 * sigma[:, np.newaxis]**2,\n",
    "        \"sq_correl\": np.linalg.cholesky(correl),\n",
    "        \"maturity\": T,\n",
    "        \"strike\": K\n",
    "    }\n",
    "    \n",
    "    # Generate normal random variables\n",
    "    Gn = rng.standard_normal((d, n))\n",
    "    \n",
    "    # Monte Carlo sampling\n",
    "    sample = phi(Gn, **params)\n",
    "    result = monte_carlo(sample)\n",
    "    \n",
    "    # Antithetic Sampling\n",
    "    sample_antith = phi_antith(Gn, **params)\n",
    "    result_antith = monte_carlo(sample_antith)\n",
    "    \n",
    "    # Control Variate\n",
    "    sample_cv = phi(Gn, **params) - psi(Gn, **params)\n",
    "    result_cv = monte_carlo(sample_cv)\n",
    "    \n",
    "    return result, result_antith, result_cv\n",
    "\n",
    "\n"
   ]
  },
  {
   "cell_type": "code",
   "execution_count": 50,
   "metadata": {},
   "outputs": [],
   "source": [
    "# Function to collect results for various parameters\n",
    "def collect_results(d_values, rho_values, sigma_values):\n",
    "    results = []\n",
    "    for d in d_values:\n",
    "        for rho in rho_values:\n",
    "            for sigma in sigma_values:\n",
    "                res, res_antith, res_cv = run_simulation(d, rho, sigma)\n",
    "                results.append({\n",
    "                    \"d\": d,\n",
    "                    \"rho\": rho,\n",
    "                    \"sigma\": sigma,\n",
    "                    \"MC_Mean\": res[0],\n",
    "                    \"MC_Var\": res[1],\n",
    "                    \"Antithetic_Mean\": res_antith[0],\n",
    "                    \"Antithetic_Var\": res_antith[1],\n",
    "                    \"CV_Mean\": res_cv[0],\n",
    "                    \"CV_Var\": res_cv[1]\n",
    "                })\n",
    "    return pd.DataFrame(results)\n"
   ]
  },
  {
   "cell_type": "code",
   "execution_count": 62,
   "metadata": {},
   "outputs": [
    {
     "data": {
      "text/html": [
       "<div>\n",
       "<style scoped>\n",
       "    .dataframe tbody tr th:only-of-type {\n",
       "        vertical-align: middle;\n",
       "    }\n",
       "\n",
       "    .dataframe tbody tr th {\n",
       "        vertical-align: top;\n",
       "    }\n",
       "\n",
       "    .dataframe thead th {\n",
       "        text-align: right;\n",
       "    }\n",
       "</style>\n",
       "<table border=\"1\" class=\"dataframe\">\n",
       "  <thead>\n",
       "    <tr style=\"text-align: right;\">\n",
       "      <th></th>\n",
       "      <th>d</th>\n",
       "      <th>rho</th>\n",
       "      <th>sigma</th>\n",
       "      <th>MC_Mean</th>\n",
       "      <th>MC_Var</th>\n",
       "      <th>Antithetic_Mean</th>\n",
       "      <th>Antithetic_Var</th>\n",
       "      <th>CV_Mean</th>\n",
       "      <th>CV_Var</th>\n",
       "    </tr>\n",
       "  </thead>\n",
       "  <tbody>\n",
       "    <tr>\n",
       "      <th>0</th>\n",
       "      <td>10</td>\n",
       "      <td>0.0</td>\n",
       "      <td>0.2</td>\n",
       "      <td>10.672046</td>\n",
       "      <td>45.384651</td>\n",
       "      <td>10.685738</td>\n",
       "      <td>1.589025</td>\n",
       "      <td>10.685496</td>\n",
       "      <td>1.112276</td>\n",
       "    </tr>\n",
       "    <tr>\n",
       "      <th>1</th>\n",
       "      <td>10</td>\n",
       "      <td>0.3</td>\n",
       "      <td>0.2</td>\n",
       "      <td>11.965477</td>\n",
       "      <td>132.967121</td>\n",
       "      <td>11.999980</td>\n",
       "      <td>12.919483</td>\n",
       "      <td>11.994623</td>\n",
       "      <td>0.746302</td>\n",
       "    </tr>\n",
       "    <tr>\n",
       "      <th>2</th>\n",
       "      <td>10</td>\n",
       "      <td>0.5</td>\n",
       "      <td>0.2</td>\n",
       "      <td>12.873269</td>\n",
       "      <td>186.941868</td>\n",
       "      <td>12.849768</td>\n",
       "      <td>23.989378</td>\n",
       "      <td>12.844621</td>\n",
       "      <td>0.421434</td>\n",
       "    </tr>\n",
       "  </tbody>\n",
       "</table>\n",
       "</div>"
      ],
      "text/plain": [
       "    d  rho  sigma    MC_Mean      MC_Var  Antithetic_Mean  Antithetic_Var  \\\n",
       "0  10  0.0    0.2  10.672046   45.384651        10.685738        1.589025   \n",
       "1  10  0.3    0.2  11.965477  132.967121        11.999980       12.919483   \n",
       "2  10  0.5    0.2  12.873269  186.941868        12.849768       23.989378   \n",
       "\n",
       "     CV_Mean    CV_Var  \n",
       "0  10.685496  1.112276  \n",
       "1  11.994623  0.746302  \n",
       "2  12.844621  0.421434  "
      ]
     },
     "execution_count": 62,
     "metadata": {},
     "output_type": "execute_result"
    }
   ],
   "source": [
    "# Example usage:\n",
    "#d_values = [10, 20, 40,50,60,120,1000]\n",
    "rho_values = [0, 0.3, 0.5]\n",
    "#sigma_values = [0.2, 0.3, 0.4]\n",
    "\n",
    "df_results = collect_results(d_values=[10], rho_values=rho_values, sigma_values=[0.2])\n",
    "\n",
    "# Display results\n",
    "df_results\n"
   ]
  },
  {
   "cell_type": "code",
   "execution_count": 63,
   "metadata": {},
   "outputs": [
    {
     "data": {
      "image/png": "[encoded data removed]",
      "text/plain": [
       "<Figure size 640x480 with 1 Axes>"
      ]
     },
     "metadata": {},
     "output_type": "display_data"
    }
   ],
   "source": [
    "sns.barplot(data=df_results, x=\"rho\", y=\"MC_Var\", hue=\"d\")\n",
    "plt.title('Variance Monte Carlo en fonction de la corrélation ρ et de la dimension d')\n",
    "plt.show()\n",
    "\n"
   ]
  },
  {
   "cell_type": "code",
   "execution_count": 55,
   "metadata": {},
   "outputs": [
    {
     "data": {
      "image/png": "[encoded data removed]",
      "text/plain": [
       "<Figure size 640x480 with 1 Axes>"
      ]
     },
     "metadata": {},
     "output_type": "display_data"
    }
   ],
   "source": [
    "sns.barplot(data=df_results, x=\"rho\", y=\"CV_Var\", hue=\"d\")\n",
    "plt.title('Variance Contrôle Varié en fonction de la corrélation ρ et de la dimension d')\n",
    "plt.show()\n"
   ]
  },
  {
   "cell_type": "code",
   "execution_count": 41,
   "metadata": {},
   "outputs": [],
   "source": [
    "class basket_black_scholes:\n",
    "    def __init__(self, S0, r, sigma, sq_correl, maturity, strike):\n",
    "        # initialisation de la propriété S0 \n",
    "        self.S0 = S0\n",
    "        # initialisation des autres arguments comme des attributs (sans vérification)\n",
    "        self.r, self.sigma, self.sq_correl = r, sigma, sq_correl\n",
    "        self.maturity, self.strike = maturity, strike\n",
    "    \n",
    "    @property\n",
    "    def S0(self):\n",
    "        return self._S0\n",
    "    \n",
    "    @S0.setter\n",
    "    def S0(self, value):\n",
    "        if value.any() <= 0:\n",
    "            raise ValueError('All elements of S0 must be positive. ')\n",
    "        if len(value.shape) == 2:\n",
    "            self.dim, c = value.shape \n",
    "            if c != 1: \n",
    "                raise ValueError('Must be a column vector of shape (d, 1)')\n",
    "            self._S0 = value\n",
    "            return \n",
    "        if len(value.shape) != 2:\n",
    "            raise ValueError('Must be a column vector of shape (d, 1)')\n",
    "        self._S0 = value\n",
    "    \n",
    "    def __repr__(self):\n",
    "        return repr(f\"Basket product of strike {self.strike} and maturity {self.maturity} in the BS model.\")\n",
    "        \n",
    "    def __generate__(self, indep_Gn):\n",
    "        mu_T = (self.r - 0.5*self.sigma**2) * self.maturity\n",
    "        sigrho_sqT = self.sigma * np.sqrt(self.maturity) * self.sq_correl\n",
    "        ST = self.S0 * np.exp(mu_T + sigrho_sqT @ indep_Gn)\n",
    "        return ST\n",
    "        \n",
    "    def call(self, indep_Gn):\n",
    "        ST = self.__generate__(indep_Gn)\n",
    "        return np.maximum(np.mean(ST, axis=0) - self.strike, 0)\n",
    "\n",
    "    def call_cv(self, indep_Gn):\n",
    "        weight = self.S0 / self.S0.sum()\n",
    "        m = (weight * (self.r - 0.5*self.sigma**2)).sum() \n",
    "        s2 = (((weight * self.sigma).T @ self.sq_correl)**2).sum()\n",
    "        rho = m + 0.5*s2\n",
    "        sigrho_sqT = self.sigma * np.sqrt(self.maturity) * self.sq_correl\n",
    "        Z = np.sum(weight * (m*self.maturity + sigrho_sqT @ indep_Gn), axis = 0)\n",
    "        \n",
    "        Y = np.maximum(self.S0.mean() * np.exp(Z) - self.strike, 0) \n",
    "        Y_mean = np.exp(rho*T) * price_call_BS(self.S0.mean(), self.maturity, rho, np.sqrt(s2), strike=self.strike) \n",
    "        return Y - Y_mean\n",
    "\n",
    "    def put(self, indep_Gn):\n",
    "        ST = self.__generate__(indep_Gn)\n",
    "        return np.maximum(strike - np.mean(ST, axis=0), 0)\n",
    "\n",
    "    # TODO: def put_cv(self, indep_Gn)"
   ]
  },
  {
   "cell_type": "code",
   "execution_count": 42,
   "metadata": {},
   "outputs": [],
   "source": [
    "d = 40\n",
    "S0 = np.full(d, 100)[:, np.newaxis]\n",
    "r = 0.1\n",
    "sigma = np.full(d, 0.3)[:, np.newaxis]\n",
    "rho = 0.3\n",
    "correl = np.full((d,d), rho) + (1-rho)*np.eye(d) # ou np.diag(np.full(d, 1-0.2))\n",
    "sq_correl = np.linalg.cholesky(correl)\n",
    "T = 1\n",
    "K = 100\n",
    "\n",
    "X = basket_black_scholes(S0, r, sigma, sq_correl, strike=K, maturity=T)"
   ]
  },
  {
   "cell_type": "code",
   "execution_count": 43,
   "metadata": {},
   "outputs": [],
   "source": [
    "def compare_numerical_methods(X, size):\n",
    "    Gn = rng.standard_normal((X.dim, size)) \n",
    "    methods = {\n",
    "        \"crude\": \n",
    "            monte_carlo(X.call(Gn)),\n",
    "        \"antithetic\": \n",
    "            monte_carlo(0.5*(X.call(Gn) + X.call(-Gn))),\n",
    "        \"control variate\": \n",
    "            monte_carlo(X.call(Gn) - X.call_cv(Gn)),\n",
    "        \"antithetic + control variate\": \n",
    "            monte_carlo(0.5*(X.call(Gn) - X.call_cv(Gn)) + 0.5*(X.call(-Gn) - X.call_cv(-Gn))),\n",
    "    }\n",
    "    return methods"
   ]
  },
  {
   "cell_type": "code",
   "execution_count": 44,
   "metadata": {},
   "outputs": [
    {
     "data": {
      "text/plain": [
       "{'crude': (13.555861169297609,\n",
       "  234.33129992848046,\n",
       "  13.525858268786575,\n",
       "  13.585864069808643),\n",
       " 'antithetic': (13.559226523478207,\n",
       "  36.00338936190468,\n",
       "  13.54746618599839,\n",
       "  13.570986860958024),\n",
       " 'control variate': (13.55508373867327,\n",
       "  3.4736797095073926,\n",
       "  13.551430794989013,\n",
       "  13.558736682357527),\n",
       " 'antithetic + control variate': (13.55546299396159,\n",
       "  0.7020475010803481,\n",
       "  13.553820773950273,\n",
       "  13.557105213972909)}"
      ]
     },
     "execution_count": 44,
     "metadata": {},
     "output_type": "execute_result"
    }
   ],
   "source": [
    "compare_numerical_methods(X, int(1e6))"
   ]
  },
  {
   "cell_type": "code",
   "execution_count": 45,
   "metadata": {},
   "outputs": [],
   "source": [
    "\n",
    "class PositiveColumnVector():\n",
    "    def __set_name__(self, owner, name):\n",
    "        self.name = name\n",
    "\n",
    "    def __get__(self, obj, type=None) -> object:\n",
    "        return obj.__dict__.get(self.name)\n",
    "\n",
    "    def __set__(self, obj, value) -> None:\n",
    "        try:\n",
    "            dim, one = value.shape\n",
    "        except:\n",
    "            raise AttributeError(f\"{self.name} must be a column vector of shape (d, 1)\")\n",
    "        if one != 1:\n",
    "            raise AttributeError(f\"{self.name} must be a column vector of shape (d, 1)\")\n",
    "        if value.any() <= 0:\n",
    "            raise AttributeError(f\"All elements of {self.name} must be positive.\")\n",
    "        obj.__dict__[self.name] = value"
   ]
  },
  {
   "cell_type": "code",
   "execution_count": 46,
   "metadata": {},
   "outputs": [],
   "source": [
    "class basket_black_scholes:\n",
    "    S0 = PositiveColumnVector()\n",
    "    \n",
    "    def __init__(self, S0, r, sigma, sq_correl, maturity, strike):\n",
    "        self.S0 = S0\n",
    "        self.r, self.sigma, self.sq_correl = r, sigma, sq_correl\n",
    "        self.maturity, self.strike = maturity, strike\n",
    "    \n",
    "    def __repr__(self):\n",
    "        return repr(f\"Basket product of strike {self.strike} and maturity {self.maturity} in the BS model.\")\n",
    "        \n",
    "    def __generate__(self, indep_Gn):\n",
    "        mu_T = (self.r - 0.5*self.sigma**2) * self.maturity\n",
    "        sigrho_sqT = self.sigma * np.sqrt(self.maturity) * self.sq_correl\n",
    "        ST = self.S0 * np.exp(mu_T + sigrho_sqT @ indep_Gn)\n",
    "        return ST\n",
    "        \n",
    "    def call(self, indep_Gn):\n",
    "        ST = self.__generate__(indep_Gn)\n",
    "        return np.maximum(np.mean(ST, axis=0) - self.strike, 0)"
   ]
  },
  {
   "cell_type": "code",
   "execution_count": 48,
   "metadata": {},
   "outputs": [
    {
     "name": "stdout",
     "output_type": "stream",
     "text": [
      "Création de X: OK\n",
      "Création de Y:\n"
     ]
    }
   ],
   "source": [
    "S0 = np.full((d, 1), 100)\n",
    "X = basket_black_scholes(S0, r, sigma, sq_correl, strike=K, maturity=T)\n",
    "print(\"Création de X: OK\")\n",
    "\n",
    "S0 = np.full((d,1), 100)\n",
    "print(\"Création de Y:\")\n",
    "Y = basket_black_scholes(S0, r, sigma, sq_correl, strike=K, maturity=T)"
   ]
  },
  {
   "cell_type": "code",
   "execution_count": null,
   "metadata": {},
   "outputs": [],
   "source": []
  }
 ],
 "metadata": {
  "kernelspec": {
   "display_name": "Python 3",
   "language": "python",
   "name": "python3"
  },
  "language_info": {
   "codemirror_mode": {
    "name": "ipython",
    "version": 3
   },
   "file_extension": ".py",
   "mimetype": "text/x-python",
   "name": "python",
   "nbconvert_exporter": "python",
   "pygments_lexer": "ipython3",
   "version": "3.12.3"
  }
 },
 "nbformat": 4,
 "nbformat_minor": 2
}
